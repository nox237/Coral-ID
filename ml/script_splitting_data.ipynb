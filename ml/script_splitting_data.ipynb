{
  "nbformat": 4,
  "nbformat_minor": 0,
  "metadata": {
    "colab": {
      "name": "script_splitting_data",
      "provenance": [],
      "collapsed_sections": [],
      "authorship_tag": "ABX9TyNmv+PJIn1EsDpL1lr9tSkk",
      "include_colab_link": true
    },
    "kernelspec": {
      "name": "python3",
      "display_name": "Python 3"
    },
    "language_info": {
      "name": "python"
    }
  },
  "cells": [
    {
      "cell_type": "markdown",
      "metadata": {
        "id": "view-in-github",
        "colab_type": "text"
      },
      "source": [
        "<a href=\"https://colab.research.google.com/github/sayapakailinuxpak/Coral-ID/blob/ml/script_splitting_data.ipynb\" target=\"_parent\"><img src=\"https://colab.research.google.com/assets/colab-badge.svg\" alt=\"Open In Colab\"/></a>"
      ]
    },
    {
      "cell_type": "markdown",
      "metadata": {
        "id": "wwy8CVQTJdZ7"
      },
      "source": [
        "# **Script for Splitting Data into Training and Validation**\n",
        "The codes below are based on [Keras-MultiClass-Image-Classification: EDA Preprocessing](https://github.com/vijayg15/Keras-MultiClass-Image-Classification/blob/master/Notebooks/wp_EDA_preprocessing.ipynb) by Vijay Kr Gupta."
      ]
    },
    {
      "cell_type": "code",
      "metadata": {
        "id": "ISYmHgoWU2j7",
        "colab": {
          "base_uri": "https://localhost:8080/"
        },
        "outputId": "b77c5aa9-d104-4afc-f7bf-90312992cdaa"
      },
      "source": [
        "from google.colab import drive\n",
        "drive.mount('/content/drive')"
      ],
      "execution_count": 1,
      "outputs": [
        {
          "output_type": "stream",
          "text": [
            "Mounted at /content/drive\n"
          ],
          "name": "stdout"
        }
      ]
    },
    {
      "cell_type": "code",
      "metadata": {
        "colab": {
          "base_uri": "https://localhost:8080/"
        },
        "id": "JAMPfX0oU3r8",
        "outputId": "c22f9797-f772-4a60-83e6-130d9ba34653"
      },
      "source": [
        "%cd '/content/drive/MyDrive/ML-dataset/augStructureRSMAS'\n",
        "!ls"
      ],
      "execution_count": 2,
      "outputs": [
        {
          "output_type": "stream",
          "text": [
            "/content/drive/MyDrive/ML-dataset/augStructureRSMAS\n",
            "ACER  APAL  CNAT  MALC\tMCAV  MMEA  SSID\n"
          ],
          "name": "stdout"
        }
      ]
    },
    {
      "cell_type": "code",
      "metadata": {
        "id": "ngSliOK0ZofV"
      },
      "source": [
        "import random\n",
        "import numpy as np\n",
        "import pandas as pd\n",
        "from shutil import copyfile"
      ],
      "execution_count": 3,
      "outputs": []
    },
    {
      "cell_type": "code",
      "metadata": {
        "id": "SYdEQamAWBRT"
      },
      "source": [
        "import os\n",
        "\n",
        "# Make new folders for training and validation data\n",
        "os.mkdir('/content/drive/MyDrive/ML-dataset/augStructureRSMAS/training')\n",
        "os.mkdir('/content/drive/MyDrive/ML-dataset/augStructureRSMAS/validation')\n",
        "\n",
        "# Make new folders in training folder per class\n",
        "os.mkdir('/content/drive/MyDrive/ML-dataset/augStructureRSMAS/training/SSID')\n",
        "os.mkdir('/content/drive/MyDrive/ML-dataset/augStructureRSMAS/training/ACER')\n",
        "os.mkdir('/content/drive/MyDrive/ML-dataset/augStructureRSMAS/training/MMEA')\n",
        "os.mkdir('/content/drive/MyDrive/ML-dataset/augStructureRSMAS/training/APAL')\n",
        "os.mkdir('/content/drive/MyDrive/ML-dataset/augStructureRSMAS/training/CNAT')\n",
        "os.mkdir('/content/drive/MyDrive/ML-dataset/augStructureRSMAS/training/MALC')\n",
        "os.mkdir('/content/drive/MyDrive/ML-dataset/augStructureRSMAS/training/MCAV')\n",
        "\n",
        "# Make new folders in validation folder per class\n",
        "os.mkdir('/content/drive/MyDrive/ML-dataset/augStructureRSMAS/validation/SSID')\n",
        "os.mkdir('/content/drive/MyDrive/ML-dataset/augStructureRSMAS/validation/ACER')\n",
        "os.mkdir('/content/drive/MyDrive/ML-dataset/augStructureRSMAS/validation/MMEA')\n",
        "os.mkdir('/content/drive/MyDrive/ML-dataset/augStructureRSMAS/validation/APAL')\n",
        "os.mkdir('/content/drive/MyDrive/ML-dataset/augStructureRSMAS/validation/CNAT')\n",
        "os.mkdir('/content/drive/MyDrive/ML-dataset/augStructureRSMAS/validation/MALC')\n",
        "os.mkdir('/content/drive/MyDrive/ML-dataset/augStructureRSMAS/validation/MCAV')"
      ],
      "execution_count": 4,
      "outputs": []
    },
    {
      "cell_type": "code",
      "metadata": {
        "id": "e38MXoz-X0mf"
      },
      "source": [
        "# Split the data randomly\n",
        "def split_data(SOURCE, TRAINING, VALIDATION, SPLIT_SIZE):\n",
        "    files = []\n",
        "    for filename in os.listdir(SOURCE):\n",
        "        file = SOURCE + filename\n",
        "        if os.path.getsize(file) > 0:\n",
        "            files.append(filename)\n",
        "        else:\n",
        "            print(filename + \" is zero length, ignoring.\")\n",
        "\n",
        "    training_length = int(len(files) * SPLIT_SIZE)\n",
        "    validation_length = int(len(files) - training_length)\n",
        "    shuffled_set = random.sample(files, len(files))\n",
        "    training_set = shuffled_set[0:training_length]\n",
        "    validation_set = shuffled_set[training_length:]\n",
        "\n",
        "    for filename in training_set:\n",
        "        this_file = SOURCE + filename\n",
        "        destination = TRAINING + filename\n",
        "        copyfile(this_file, destination)\n",
        "\n",
        "    for filename in validation_set:\n",
        "        this_file = SOURCE + filename\n",
        "        destination = VALIDATION + filename\n",
        "        copyfile(this_file, destination)"
      ],
      "execution_count": 5,
      "outputs": []
    },
    {
      "cell_type": "code",
      "metadata": {
        "id": "NvjaPZN-ZIyF"
      },
      "source": [
        "# Define variables for each directories for each class\n",
        "SSID_SOURCE_DIR = '/content/drive/MyDrive/ML-dataset/augStructureRSMAS/SSID/'\n",
        "TRAINING_SSID_DIR = '/content/drive/MyDrive/ML-dataset/augStructureRSMAS/training/SSID/'\n",
        "VALID_SSID_DIR = '/content/drive/MyDrive/ML-dataset/augStructureRSMAS/validation/SSID/'\n",
        "\n",
        "ACER_SOURCE_DIR = '/content/drive/MyDrive/ML-dataset/augStructureRSMAS/ACER/'\n",
        "TRAINING_ACER_DIR = '/content/drive/MyDrive/ML-dataset/augStructureRSMAS/training/ACER/'\n",
        "VALID_ACER_DIR = '/content/drive/MyDrive/ML-dataset/augStructureRSMAS/validation/ACER/'\n",
        "\n",
        "MMEA_SOURCE_DIR = '/content/drive/MyDrive/ML-dataset/augStructureRSMAS/MMEA/'\n",
        "TRAINING_MMEA_DIR = '/content/drive/MyDrive/ML-dataset/augStructureRSMAS/training/MMEA/'\n",
        "VALID_MMEA_DIR = '/content/drive/MyDrive/ML-dataset/augStructureRSMAS/validation/MMEA/'\n",
        "\n",
        "APAL_SOURCE_DIR = '/content/drive/MyDrive/ML-dataset/augStructureRSMAS/APAL/'\n",
        "TRAINING_APAL_DIR = '/content/drive/MyDrive/ML-dataset/augStructureRSMAS/training/APAL/'\n",
        "VALID_APAL_DIR = '/content/drive/MyDrive/ML-dataset/augStructureRSMAS/validation/APAL/'\n",
        "\n",
        "CNAT_SOURCE_DIR = '/content/drive/MyDrive/ML-dataset/augStructureRSMAS/CNAT/'\n",
        "TRAINING_CNAT_DIR = '/content/drive/MyDrive/ML-dataset/augStructureRSMAS/training/CNAT/'\n",
        "VALID_CNAT_DIR = '/content/drive/MyDrive/ML-dataset/augStructureRSMAS/validation/CNAT/'\n",
        "\n",
        "MALC_SOURCE_DIR = '/content/drive/MyDrive/ML-dataset/augStructureRSMAS/MALC/'\n",
        "TRAINING_MALC_DIR = '/content/drive/MyDrive/ML-dataset/augStructureRSMAS/training/MALC/'\n",
        "VALID_MALC_DIR = '/content/drive/MyDrive/ML-dataset/augStructureRSMAS/validation/MALC/'\n",
        "\n",
        "MCAV_SOURCE_DIR = '/content/drive/MyDrive/ML-dataset/augStructureRSMAS/MCAV/'\n",
        "TRAINING_MCAV_DIR = '/content/drive/MyDrive/ML-dataset/augStructureRSMAS/training/MCAV/'\n",
        "VALID_MCAV_DIR = '/content/drive/MyDrive/ML-dataset/augStructureRSMAS/validation/MCAV/'"
      ],
      "execution_count": 6,
      "outputs": []
    },
    {
      "cell_type": "code",
      "metadata": {
        "id": "XpjyM1g8ZJjI"
      },
      "source": [
        "split_size = .8 #this will split into .8 for training and .2 for validation"
      ],
      "execution_count": 7,
      "outputs": []
    },
    {
      "cell_type": "code",
      "metadata": {
        "id": "0ai56OAdZOzh"
      },
      "source": [
        "split_data(SSID_SOURCE_DIR, TRAINING_SSID_DIR, VALID_SSID_DIR, split_size)\n",
        "split_data(ACER_SOURCE_DIR, TRAINING_ACER_DIR, VALID_ACER_DIR, split_size)\n",
        "split_data(MMEA_SOURCE_DIR, TRAINING_MMEA_DIR, VALID_MMEA_DIR, split_size)\n",
        "split_data(APAL_SOURCE_DIR, TRAINING_APAL_DIR, VALID_APAL_DIR, split_size)\n",
        "split_data(CNAT_SOURCE_DIR, TRAINING_CNAT_DIR, VALID_CNAT_DIR, split_size)\n",
        "split_data(MALC_SOURCE_DIR, TRAINING_MALC_DIR, VALID_MALC_DIR, split_size)\n",
        "split_data(MCAV_SOURCE_DIR, TRAINING_MCAV_DIR, VALID_MCAV_DIR, split_size)"
      ],
      "execution_count": 8,
      "outputs": []
    },
    {
      "cell_type": "code",
      "metadata": {
        "id": "4-mySq9bNTDa"
      },
      "source": [
        "import matplotlib.pyplot as plt\n",
        "\n",
        "image_folder = ['SSID', 'ACER','MMEA','APAL','CNAT','MALC','MCAV']\n",
        "nimgs = {}"
      ],
      "execution_count": 9,
      "outputs": []
    },
    {
      "cell_type": "code",
      "metadata": {
        "colab": {
          "base_uri": "https://localhost:8080/",
          "height": 498
        },
        "id": "DbgQVV4kOt22",
        "outputId": "e936da83-8cb2-4270-d04b-43124d472471"
      },
      "source": [
        "# Visualize the distribution of augmented images per class in training folder\n",
        "for i in image_folder:\n",
        "    nimages = len(os.listdir('/content/drive/MyDrive/ML-dataset/augStructureRSMAS/training/'+i+'/'))\n",
        "    nimgs[i] = nimages\n",
        "\n",
        "plt.figure(figsize = (10, 8))\n",
        "plt.bar(range(len(nimgs)), list(nimgs.values()), align = 'center')\n",
        "plt.xticks(range(len(nimgs)), list(nimgs.keys()))\n",
        "plt.title('Distribution of augmented images in training folder')\n",
        "plt.show()"
      ],
      "execution_count": 10,
      "outputs": [
        {
          "output_type": "display_data",
          "data": {
            "image/png": "[encoded data removed]",
            "text/plain": [
              "<Figure size 720x576 with 1 Axes>"
            ]
          },
          "metadata": {
            "tags": [],
            "needs_background": "light"
          }
        }
      ]
    },
    {
      "cell_type": "code",
      "metadata": {
        "colab": {
          "base_uri": "https://localhost:8080/",
          "height": 498
        },
        "id": "LuBgo2R5OfyU",
        "outputId": "4db4420a-23b7-4ff1-f1ab-2dbb25768f32"
      },
      "source": [
        "# Visualize the distribution of augmented images per class in validation folder\n",
        "for i in image_folder:\n",
        "    nimages = len(os.listdir('/content/drive/MyDrive/ML-dataset/augStructureRSMAS/validation/'+i+'/'))\n",
        "    nimgs[i] = nimages\n",
        "\n",
        "plt.figure(figsize = (10, 8))\n",
        "plt.bar(range(len(nimgs)), list(nimgs.values()), align = 'center')\n",
        "plt.xticks(range(len(nimgs)), list(nimgs.keys()))\n",
        "plt.title('Distribution of augmented images in validation folder')\n",
        "plt.show()"
      ],
      "execution_count": 11,
      "outputs": [
        {
          "output_type": "display_data",
          "data": {
            "image/png": "[encoded data removed]",
            "text/plain": [
              "<Figure size 720x576 with 1 Axes>"
            ]
          },
          "metadata": {
            "tags": [],
            "needs_background": "light"
          }
        }
      ]
    },
    {
      "cell_type": "code",
      "metadata": {
        "id": "l6GZztEvCgHO"
      },
      "source": [
        ""
      ],
      "execution_count": null,
      "outputs": []
    }
  ]
}