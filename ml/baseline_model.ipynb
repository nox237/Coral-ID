{
  "nbformat": 4,
  "nbformat_minor": 0,
  "metadata": {
    "accelerator": "GPU",
    "colab": {
      "name": "baseline_model.ipynb",
      "provenance": [],
      "collapsed_sections": [],
      "toc_visible": true
    },
    "kernelspec": {
      "display_name": "Python 3",
      "name": "python3"
    },
    "language_info": {
      "name": "python"
    }
  },
  "cells": [
    {
      "cell_type": "markdown",
      "metadata": {
        "id": "5CnRLHI3XM1Z"
      },
      "source": [
        "# **I. MOUNT GOOGLE DRIVE**"
      ]
    },
    {
      "cell_type": "code",
      "metadata": {
        "colab": {
          "base_uri": "https://localhost:8080/"
        },
        "id": "eH4wu4xgXIn9",
        "outputId": "008c739e-0c4f-4555-cf5c-8ca43bf7ffae"
      },
      "source": [
        "from google.colab import drive\n",
        "drive.mount('/content/drive')"
      ],
      "execution_count": null,
      "outputs": [
        {
          "output_type": "stream",
          "text": [
            "Mounted at /content/drive\n"
          ],
          "name": "stdout"
        }
      ]
    },
    {
      "cell_type": "markdown",
      "metadata": {
        "id": "sYgBsgvrXsPO"
      },
      "source": [
        "# **II. PREPARE THE DATASET**\n",
        "Since the data used for this project is only 256 images for 7 classes, we added more using augmentation. You can see how we do it [here](https://colab.research.google.com/drive/1k4SysNyEAaRtBzz0BKJCs0qzJHUDKStg?usp=sharing). It's also good to have your data splitted into training and validation firsthand. In case you haven't done it, you can also check on [how we splitted our dataset](https://colab.research.google.com/drive/1xXBN-GuuoJG65vKLQX1KEywGQwX6rkDs?usp=sharing).\n",
        "\n"
      ]
    },
    {
      "cell_type": "markdown",
      "metadata": {
        "id": "qb9S1UsqZSEt"
      },
      "source": [
        "## **1. Make Variables to Store Paths**\n"
      ]
    },
    {
      "cell_type": "code",
      "metadata": {
        "colab": {
          "base_uri": "https://localhost:8080/"
        },
        "id": "NBDBYWCUesum",
        "outputId": "50f55edf-42fd-438a-e07d-376296e76dad"
      },
      "source": [
        "%cd '/content/drive/MyDrive/ML-dataset/augStructureRSMAS'\n",
        "!ls"
      ],
      "execution_count": null,
      "outputs": [
        {
          "output_type": "stream",
          "text": [
            "/content/drive/MyDrive/ML-dataset/augStructureRSMAS\n",
            "ACER  CNAT\t   coral-00.tflite  MCAV  SSID\t    validation\n",
            "APAL  coral-00.h5  MALC\t\t    MMEA  training\n"
          ],
          "name": "stdout"
        }
      ]
    },
    {
      "cell_type": "code",
      "metadata": {
        "id": "i8r5FDDKXkSc"
      },
      "source": [
        "train_dir = r'/content/drive/MyDrive/ML-dataset/augStructureRSMAS/training'  # Location of training images\n",
        "valid_dir = r'/content/drive/MyDrive/ML-dataset/augStructureRSMAS/validation'  # Location of validation images\n",
        "\n",
        "image_folder = ['SSID', 'ACER','MMEA','APAL','CNAT','MALC','MCAV'] # List of folders"
      ],
      "execution_count": null,
      "outputs": []
    },
    {
      "cell_type": "markdown",
      "metadata": {
        "id": "yrL2jCeFVlHH"
      },
      "source": [
        "## **2. Preprocess the Data**"
      ]
    },
    {
      "cell_type": "code",
      "metadata": {
        "id": "iOU2g07-ZGVG"
      },
      "source": [
        "from keras_preprocessing.image import ImageDataGenerator\n",
        "\n",
        "train_datagen = ImageDataGenerator() #rescale and other augmentation parameters has already been set on script_augmented_image.ipynb\n",
        "valid_datagen = ImageDataGenerator() #rescale and other augmentation parameters has already been set on script_augmented_image.ipynb"
      ],
      "execution_count": null,
      "outputs": []
    },
    {
      "cell_type": "code",
      "metadata": {
        "colab": {
          "base_uri": "https://localhost:8080/"
        },
        "id": "ltZv8F1AfnSD",
        "outputId": "931fbcb4-c004-4475-f834-94cf86baab87"
      },
      "source": [
        "train_generator = train_datagen.flow_from_directory(train_dir,\n",
        "                                                    target_size=(150, 150),\n",
        "                                                    class_mode ='categorical')\n",
        "\n",
        "valid_generator = valid_datagen.flow_from_directory(valid_dir,\n",
        "                                                    target_size=(150, 150),\n",
        "                                                    class_mode ='categorical')"
      ],
      "execution_count": null,
      "outputs": [
        {
          "output_type": "stream",
          "text": [
            "Found 1514 images belonging to 7 classes.\n",
            "Found 384 images belonging to 7 classes.\n"
          ],
          "name": "stdout"
        }
      ]
    },
    {
      "cell_type": "markdown",
      "metadata": {
        "id": "TgC1NTQ0ewtw"
      },
      "source": [
        "# **III. MAKE CNN MODEL ARCHITECTURE**\n",
        "\n",
        "The basic CNN model architecture for this project is based on [Coursera CNN](https://colab.research.google.com/github/lmoroney/dlaicourse/blob/master/Course%202%20-%20Part%208%20-%20Lesson%202%20-%20Notebook%20(RockPaperScissors).ipynb)."
      ]
    },
    {
      "cell_type": "code",
      "metadata": {
        "colab": {
          "base_uri": "https://localhost:8080/"
        },
        "id": "S1Y-sfaoei3m",
        "outputId": "abed6de6-4a13-4256-d99c-2c867c4f7058"
      },
      "source": [
        "import tensorflow as tf\n",
        "\n",
        "# Define the layers in CNN model\n",
        "model = tf.keras.models.Sequential([\n",
        "    # This is the first convolution\n",
        "    tf.keras.layers.Conv2D(64, (3, 3), activation = 'relu', input_shape = (150, 150, 3)),\n",
        "    tf.keras.layers.MaxPooling2D(2, 2),\n",
        "    # The second convolution\n",
        "    tf.keras.layers.Conv2D(64, (3, 3), activation = 'relu'),\n",
        "    tf.keras.layers.MaxPooling2D(2, 2),\n",
        "    # The third convolution\n",
        "    tf.keras.layers.Conv2D(128, (3, 3), activation = 'relu'),\n",
        "    tf.keras.layers.MaxPooling2D(2, 2),\n",
        "    # The fourth convolution\n",
        "    tf.keras.layers.Conv2D(128, (3, 3), activation = 'relu'),\n",
        "    tf.keras.layers.MaxPooling2D(2, 2),\n",
        "    # Flatten the results to feed into a DNN\n",
        "    tf.keras.layers.Flatten(),\n",
        "    tf.keras.layers.Dropout(0.5),\n",
        "    # 512 neuron hidden layer\n",
        "    tf.keras.layers.Dense(512, activation = 'relu'),\n",
        "    tf.keras.layers.Dense(7, activation = 'softmax')\n",
        "])\n",
        "\n",
        "model.summary()"
      ],
      "execution_count": null,
      "outputs": [
        {
          "output_type": "stream",
          "text": [
            "Model: \"sequential\"\n",
            "_________________________________________________________________\n",
            "Layer (type)                 Output Shape              Param #   \n",
            "=================================================================\n",
            "conv2d (Conv2D)              (None, 148, 148, 64)      1792      \n",
            "_________________________________________________________________\n",
            "max_pooling2d (MaxPooling2D) (None, 74, 74, 64)        0         \n",
            "_________________________________________________________________\n",
            "conv2d_1 (Conv2D)            (None, 72, 72, 64)        36928     \n",
            "_________________________________________________________________\n",
            "max_pooling2d_1 (MaxPooling2 (None, 36, 36, 64)        0         \n",
            "_________________________________________________________________\n",
            "conv2d_2 (Conv2D)            (None, 34, 34, 128)       73856     \n",
            "_________________________________________________________________\n",
            "max_pooling2d_2 (MaxPooling2 (None, 17, 17, 128)       0         \n",
            "_________________________________________________________________\n",
            "conv2d_3 (Conv2D)            (None, 15, 15, 128)       147584    \n",
            "_________________________________________________________________\n",
            "max_pooling2d_3 (MaxPooling2 (None, 7, 7, 128)         0         \n",
            "_________________________________________________________________\n",
            "flatten (Flatten)            (None, 6272)              0         \n",
            "_________________________________________________________________\n",
            "dropout (Dropout)            (None, 6272)              0         \n",
            "_________________________________________________________________\n",
            "dense (Dense)                (None, 512)               3211776   \n",
            "_________________________________________________________________\n",
            "dense_1 (Dense)              (None, 7)                 3591      \n",
            "=================================================================\n",
            "Total params: 3,475,527\n",
            "Trainable params: 3,475,527\n",
            "Non-trainable params: 0\n",
            "_________________________________________________________________\n"
          ],
          "name": "stdout"
        }
      ]
    },
    {
      "cell_type": "code",
      "metadata": {
        "colab": {
          "base_uri": "https://localhost:8080/"
        },
        "id": "HIwiTc-UdGXQ",
        "outputId": "c1d95295-4f22-47ee-8b66-856fbb7d121f"
      },
      "source": [
        "from keras.optimizers import Adam\n",
        "\n",
        "model.compile(loss = 'categorical_crossentropy',\n",
        "              optimizer = 'adam', # it is the best optimizer with momentum to minimize the loss\n",
        "              metrics = ['accuracy', tf.keras.metrics.Recall(name='recall')])\n",
        "\n",
        "history = model.fit(train_generator,\n",
        "                    epochs = 25,\n",
        "                    steps_per_epoch = 20,\n",
        "                    validation_data = valid_generator,\n",
        "                    verbose = 1,\n",
        "                    validation_steps = 3)"
      ],
      "execution_count": null,
      "outputs": [
        {
          "output_type": "stream",
          "text": [
            "Epoch 1/25\n",
            "20/20 [==============================] - 243s 11s/step - loss: 18.3149 - accuracy: 0.1456 - recall: 0.0469 - val_loss: 1.9237 - val_accuracy: 0.2292 - val_recall: 0.0000e+00\n",
            "Epoch 2/25\n",
            "20/20 [==============================] - 139s 7s/step - loss: 1.9294 - accuracy: 0.1828 - recall: 0.0049 - val_loss: 1.9250 - val_accuracy: 0.1979 - val_recall: 0.0000e+00\n",
            "Epoch 3/25\n",
            "20/20 [==============================] - 84s 4s/step - loss: 1.8779 - accuracy: 0.2547 - recall: 0.0172 - val_loss: 1.8506 - val_accuracy: 0.2396 - val_recall: 0.0208\n",
            "Epoch 4/25\n",
            "20/20 [==============================] - 43s 2s/step - loss: 1.8637 - accuracy: 0.2391 - recall: 0.0250 - val_loss: 1.8473 - val_accuracy: 0.2188 - val_recall: 0.0000e+00\n",
            "Epoch 5/25\n",
            "20/20 [==============================] - 33s 2s/step - loss: 1.8584 - accuracy: 0.2422 - recall: 0.0469 - val_loss: 1.8272 - val_accuracy: 0.2708 - val_recall: 0.0208\n",
            "Epoch 6/25\n",
            "20/20 [==============================] - 17s 835ms/step - loss: 1.8454 - accuracy: 0.2703 - recall: 0.0437 - val_loss: 1.9986 - val_accuracy: 0.2812 - val_recall: 0.0417\n",
            "Epoch 7/25\n",
            "20/20 [==============================] - 10s 482ms/step - loss: 1.8095 - accuracy: 0.2767 - recall: 0.0615 - val_loss: 1.7768 - val_accuracy: 0.3125 - val_recall: 0.0417\n",
            "Epoch 8/25\n",
            "20/20 [==============================] - 8s 384ms/step - loss: 1.7517 - accuracy: 0.3107 - recall: 0.0696 - val_loss: 1.6300 - val_accuracy: 0.4062 - val_recall: 0.1146\n",
            "Epoch 9/25\n",
            "20/20 [==============================] - 7s 343ms/step - loss: 1.6347 - accuracy: 0.3891 - recall: 0.1281 - val_loss: 1.6067 - val_accuracy: 0.3854 - val_recall: 0.0938\n",
            "Epoch 10/25\n",
            "20/20 [==============================] - 4s 182ms/step - loss: 1.6505 - accuracy: 0.3562 - recall: 0.1219 - val_loss: 1.6101 - val_accuracy: 0.3646 - val_recall: 0.1146\n",
            "Epoch 11/25\n",
            "20/20 [==============================] - 2s 99ms/step - loss: 1.5728 - accuracy: 0.4045 - recall: 0.1440 - val_loss: 1.6357 - val_accuracy: 0.3542 - val_recall: 0.1562\n",
            "Epoch 12/25\n",
            "20/20 [==============================] - 3s 142ms/step - loss: 1.5686 - accuracy: 0.4013 - recall: 0.1650 - val_loss: 1.4378 - val_accuracy: 0.4271 - val_recall: 0.1667\n",
            "Epoch 13/25\n",
            "20/20 [==============================] - 3s 151ms/step - loss: 1.5120 - accuracy: 0.4031 - recall: 0.1641 - val_loss: 1.3926 - val_accuracy: 0.5000 - val_recall: 0.2396\n",
            "Epoch 14/25\n",
            "20/20 [==============================] - 2s 114ms/step - loss: 1.5342 - accuracy: 0.4047 - recall: 0.1609 - val_loss: 1.5172 - val_accuracy: 0.4375 - val_recall: 0.1562\n",
            "Epoch 15/25\n",
            "20/20 [==============================] - 2s 117ms/step - loss: 1.4682 - accuracy: 0.4207 - recall: 0.2006 - val_loss: 1.4487 - val_accuracy: 0.4896 - val_recall: 0.1979\n",
            "Epoch 16/25\n",
            "20/20 [==============================] - 2s 111ms/step - loss: 1.3955 - accuracy: 0.4531 - recall: 0.2055 - val_loss: 1.4550 - val_accuracy: 0.5208 - val_recall: 0.2292\n",
            "Epoch 17/25\n",
            "20/20 [==============================] - 2s 101ms/step - loss: 1.4726 - accuracy: 0.4337 - recall: 0.1990 - val_loss: 1.6016 - val_accuracy: 0.3958 - val_recall: 0.2292\n",
            "Epoch 18/25\n",
            "20/20 [==============================] - 2s 104ms/step - loss: 1.4071 - accuracy: 0.4609 - recall: 0.2094 - val_loss: 1.2328 - val_accuracy: 0.5938 - val_recall: 0.2396\n",
            "Epoch 19/25\n",
            "20/20 [==============================] - 2s 101ms/step - loss: 1.2912 - accuracy: 0.5049 - recall: 0.2686 - val_loss: 1.2244 - val_accuracy: 0.5833 - val_recall: 0.2083\n",
            "Epoch 20/25\n",
            "20/20 [==============================] - 2s 101ms/step - loss: 1.3177 - accuracy: 0.5032 - recall: 0.2557 - val_loss: 1.3364 - val_accuracy: 0.4896 - val_recall: 0.2292\n",
            "Epoch 21/25\n",
            "20/20 [==============================] - 2s 106ms/step - loss: 1.2753 - accuracy: 0.5000 - recall: 0.2969 - val_loss: 1.0750 - val_accuracy: 0.5938 - val_recall: 0.3229\n",
            "Epoch 22/25\n",
            "20/20 [==============================] - 2s 100ms/step - loss: 1.3117 - accuracy: 0.5047 - recall: 0.2969 - val_loss: 1.3047 - val_accuracy: 0.4583 - val_recall: 0.2708\n",
            "Epoch 23/25\n",
            "20/20 [==============================] - 2s 98ms/step - loss: 1.2453 - accuracy: 0.5469 - recall: 0.2961 - val_loss: 1.1434 - val_accuracy: 0.6250 - val_recall: 0.2812\n",
            "Epoch 24/25\n",
            "20/20 [==============================] - 2s 102ms/step - loss: 1.1606 - accuracy: 0.5344 - recall: 0.3125 - val_loss: 1.3647 - val_accuracy: 0.4688 - val_recall: 0.2083\n",
            "Epoch 25/25\n",
            "20/20 [==============================] - 2s 101ms/step - loss: 1.1594 - accuracy: 0.5406 - recall: 0.3313 - val_loss: 1.5618 - val_accuracy: 0.3854 - val_recall: 0.1875\n"
          ],
          "name": "stdout"
        }
      ]
    },
    {
      "cell_type": "code",
      "metadata": {
        "id": "Nn6QS8j48-dp"
      },
      "source": [
        "# Save the trained model\n",
        "model.save(\"coral-baseline.h5\")"
      ],
      "execution_count": null,
      "outputs": []
    },
    {
      "cell_type": "markdown",
      "metadata": {
        "id": "Mn0JZpJDci3Y"
      },
      "source": [
        "# **IV. EVALUATE THE PERFORMANCE**"
      ]
    },
    {
      "cell_type": "code",
      "metadata": {
        "id": "7Y92gCtbN6w9"
      },
      "source": [
        "# Import necessary libraries\n",
        "import matplotlib.pyplot as plt\n",
        "import numpy as np"
      ],
      "execution_count": null,
      "outputs": []
    },
    {
      "cell_type": "markdown",
      "metadata": {
        "id": "lJyEhYfeixtz"
      },
      "source": [
        "## **1. Accuracy and Loss** "
      ]
    },
    {
      "cell_type": "code",
      "metadata": {
        "colab": {
          "base_uri": "https://localhost:8080/",
          "height": 573
        },
        "id": "EpHZGxfWhXTi",
        "outputId": "8af375f9-3294-4acc-dcaf-4bdbee8d4afa"
      },
      "source": [
        "# Plot training & validation accuracy values\n",
        "plt.plot(history.history['accuracy'])\n",
        "plt.plot(history.history['val_accuracy'])\n",
        "plt.title('Model Accuracy')\n",
        "plt.ylabel('Accuracy')\n",
        "plt.xlabel('Epoch')\n",
        "plt.legend(['Train', 'Validation'], loc = 'upper left')\n",
        "plt.show()\n",
        "\n",
        "# Plot training & validation loss values\n",
        "plt.plot(history.history['loss'])\n",
        "plt.plot(history.history['val_loss'])\n",
        "plt.title('Model Loss')\n",
        "plt.ylabel('Loss')\n",
        "plt.xlabel('Epoch')\n",
        "plt.legend(['Train', 'Validation'], loc = 'upper left')\n",
        "plt.show()"
      ],
      "execution_count": null,
      "outputs": [
        {
          "output_type": "display_data",
          "data": {
            "image/png": "[encoded data removed]",
            "text/plain": [
              "<Figure size 432x288 with 1 Axes>"
            ]
          },
          "metadata": {
            "tags": [],
            "needs_background": "light"
          }
        },
        {
          "output_type": "display_data",
          "data": {
            "image/png": "[encoded data removed]",
            "text/plain": [
              "<Figure size 432x288 with 1 Axes>"
            ]
          },
          "metadata": {
            "tags": [],
            "needs_background": "light"
          }
        }
      ]
    },
    {
      "cell_type": "markdown",
      "metadata": {
        "id": "VKoRD2UNi_0_"
      },
      "source": [
        "## **2. Classification Report and Confusion Matrix** "
      ]
    },
    {
      "cell_type": "code",
      "metadata": {
        "colab": {
          "base_uri": "https://localhost:8080/"
        },
        "id": "uj0a6FK4l-0I",
        "outputId": "ff01f6a0-9079-42e7-a25a-d2479229d75c"
      },
      "source": [
        "# Source: https://stackoverflow.com/questions/51282098/plotting-confusion-matrix-for-an-image-classification-model/51282672\n",
        "\n",
        "import sklearn.metrics as metrics\n",
        "from sklearn.metrics import confusion_matrix\n",
        "from sklearn.metrics import classification_report\n",
        "\n",
        "target_names = image_folder\n",
        "Y_pred = model.predict_generator(valid_generator)\n",
        "y_pred = np.argmax(Y_pred, axis=1)\n",
        "\n",
        "# Printing the classification report\n",
        "print('Classification Report')\n",
        "print(metrics.classification_report(valid_generator.classes, y_pred))"
      ],
      "execution_count": null,
      "outputs": [
        {
          "output_type": "stream",
          "text": [
            "/usr/local/lib/python3.7/dist-packages/tensorflow/python/keras/engine/training.py:2001: UserWarning: `Model.predict_generator` is deprecated and will be removed in a future version. Please use `Model.predict`, which supports generators.\n",
            "  warnings.warn('`Model.predict_generator` is deprecated and '\n"
          ],
          "name": "stderr"
        },
        {
          "output_type": "stream",
          "text": [
            "Classification Report\n",
            "              precision    recall  f1-score   support\n",
            "\n",
            "           0       0.04      0.02      0.02        62\n",
            "           1       0.13      0.16      0.14        58\n",
            "           2       0.14      0.12      0.13        48\n",
            "           3       0.13      0.06      0.09        47\n",
            "           4       0.08      0.04      0.05        54\n",
            "           5       0.12      0.09      0.10        64\n",
            "           6       0.11      0.31      0.16        51\n",
            "\n",
            "    accuracy                           0.11       384\n",
            "   macro avg       0.11      0.11      0.10       384\n",
            "weighted avg       0.10      0.11      0.10       384\n",
            "\n"
          ],
          "name": "stdout"
        }
      ]
    },
    {
      "cell_type": "code",
      "metadata": {
        "colab": {
          "base_uri": "https://localhost:8080/",
          "height": 338
        },
        "id": "nWp-8eW5mxrw",
        "outputId": "d8fff80d-a514-4c1c-da7c-2efa24ec6c38"
      },
      "source": [
        "# Visualizing the confusion matrix\n",
        "import seaborn as sns\n",
        "\n",
        "f, ax = plt.subplots(figsize = (8,5))\n",
        "sns.heatmap(confusion_matrix(valid_generator.classes, y_pred), annot = True, fmt = '.0f', ax = ax)\n",
        "ax.set_xticklabels(image_folder)\n",
        "ax.set_yticklabels(image_folder)\n",
        "plt.xlabel('Predicted Label')\n",
        "plt.ylabel('True Label')\n",
        "plt.show()"
      ],
      "execution_count": null,
      "outputs": [
        {
          "output_type": "display_data",
          "data": {
            "image/png": "[encoded data removed]",
            "text/plain": [
              "<Figure size 576x360 with 2 Axes>"
            ]
          },
          "metadata": {
            "tags": [],
            "needs_background": "light"
          }
        }
      ]
    },
    {
      "cell_type": "markdown",
      "metadata": {
        "id": "lk1A4qkIgFW3"
      },
      "source": [
        "# **V. CONVERT SAVED MODEL TO TFLITE**\n",
        "\n",
        "To deploy this on Native app, you need to convert it to file format .tflite."
      ]
    },
    {
      "cell_type": "code",
      "metadata": {
        "colab": {
          "base_uri": "https://localhost:8080/"
        },
        "id": "M_FWJJwsQDzU",
        "outputId": "3abf38fb-deb1-4efd-d250-76300ab73d2f"
      },
      "source": [
        "# Load the model\n",
        "new_model= tf.keras.models.load_model(filepath = 'coral-baseline.h5')\n",
        "\n",
        "# Convert the model\n",
        "converter = tf.lite.TFLiteConverter.from_keras_model(new_model)\n",
        "tflite_model = converter.convert()\n",
        "\n",
        "# Save the TFLite model\n",
        "with tf.io.gfile.GFile('coral-baseline.tflite', 'wb') as f:\n",
        "  f.write(tflite_model)"
      ],
      "execution_count": null,
      "outputs": [
        {
          "output_type": "stream",
          "text": [
            "INFO:tensorflow:Assets written to: /tmp/tmpa4smr2dc/assets\n"
          ],
          "name": "stdout"
        }
      ]
    }
  ]
}