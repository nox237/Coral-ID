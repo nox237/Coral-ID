{
  "nbformat": 4,
  "nbformat_minor": 0,
  "metadata": {
    "kernelspec": {
      "name": "python3",
      "display_name": "Python 3"
    },
    "colab": {
      "name": "Copy of Baseline-02.ipynb",
      "provenance": []
    },
    "accelerator": "GPU",
    "language_info": {
      "name": "python"
    }
  },
  "cells": [
    {
      "cell_type": "markdown",
      "metadata": {
        "id": "5xTNe8CNKXV9"
      },
      "source": [
        "# I. Loading Dataset"
      ]
    },
    {
      "cell_type": "code",
      "metadata": {
        "id": "kRexo4VTKWqS"
      },
      "source": [
        "import os\n",
        "import zipfile\n",
        "from os import path, getcwd"
      ],
      "execution_count": 2,
      "outputs": []
    },
    {
      "cell_type": "code",
      "metadata": {
        "colab": {
          "base_uri": "https://localhost:8080/"
        },
        "id": "S9bAGztlKnc1",
        "outputId": "c9e25bc5-cb77-43ef-fe1f-df26f2f80cc9"
      },
      "source": [
        "!wget https://sci2s.ugr.es/sites/default/files/files/ComplementaryMaterial/CoralClassification/StructureRSMAS.zip\n",
        "!unzip StructureRSMAS.zip"
      ],
      "execution_count": 3,
      "outputs": [
        {
          "output_type": "stream",
          "text": [
            "--2021-05-21 10:46:12--  https://sci2s.ugr.es/sites/default/files/files/ComplementaryMaterial/CoralClassification/StructureRSMAS.zip\n",
            "Resolving sci2s.ugr.es (sci2s.ugr.es)... 150.214.190.154\n",
            "Connecting to sci2s.ugr.es (sci2s.ugr.es)|150.214.190.154|:443... connected.\n",
            "HTTP request sent, awaiting response... 200 OK\n",
            "Length: 136733726 (130M) [application/zip]\n",
            "Saving to: ‘StructureRSMAS.zip’\n",
            "\n",
            "StructureRSMAS.zip  100%[===================>] 130.40M  11.1MB/s    in 12s     \n",
            "\n",
            "2021-05-21 10:46:26 (10.5 MB/s) - ‘StructureRSMAS.zip’ saved [136733726/136733726]\n",
            "\n",
            "Archive:  StructureRSMAS.zip\n",
            "   creating: StructureRSMAS/\n",
            "   creating: StructureRSMAS/SSID/\n",
            "  inflating: StructureRSMAS/SSID/ssid06.jpg  \n",
            "  inflating: StructureRSMAS/SSID/ssid22.jpeg  \n",
            "  inflating: StructureRSMAS/SSID/ssid11.jpg  \n",
            "  inflating: StructureRSMAS/SSID/ssid34.jpg  \n",
            "  inflating: StructureRSMAS/SSID/ssid27.jpg  \n",
            "  inflating: StructureRSMAS/SSID/ssid19.jpg  \n",
            "  inflating: StructureRSMAS/SSID/ssid32.jpg  \n",
            "  inflating: StructureRSMAS/SSID/ssid04.jpeg  \n",
            "  inflating: StructureRSMAS/SSID/ssid23.jpg  \n",
            "  inflating: StructureRSMAS/SSID/ssid03.jpg  \n",
            "  inflating: StructureRSMAS/SSID/ssid25.jpeg  \n",
            "  inflating: StructureRSMAS/SSID/ssid33.jpg  \n",
            "  inflating: StructureRSMAS/SSID/ssid12.jpg  \n",
            "  inflating: StructureRSMAS/SSID/ssid08.jpeg  \n",
            "  inflating: StructureRSMAS/SSID/ssid35.jpg  \n",
            "  inflating: StructureRSMAS/SSID/ssid30.jpg  \n",
            "  inflating: StructureRSMAS/SSID/ssid13.jpg  \n",
            "  inflating: StructureRSMAS/SSID/ssid31.jpg  \n",
            "  inflating: StructureRSMAS/SSID/ssid02.jpg  \n",
            "  inflating: StructureRSMAS/SSID/ssid36.jpg  \n",
            "  inflating: StructureRSMAS/SSID/ssid15.jpeg  \n",
            "  inflating: StructureRSMAS/SSID/ssid05.jpeg  \n",
            "  inflating: StructureRSMAS/SSID/ssid24.jpeg  \n",
            "  inflating: StructureRSMAS/SSID/ssid01.jpg  \n",
            "  inflating: StructureRSMAS/SSID/ssid26.jpeg  \n",
            "  inflating: StructureRSMAS/SSID/ssid29.jpg  \n",
            "  inflating: StructureRSMAS/SSID/ssid18.jpeg  \n",
            "  inflating: StructureRSMAS/SSID/ssid28.jpg  \n",
            "  inflating: StructureRSMAS/SSID/ssid09.jpg  \n",
            "  inflating: StructureRSMAS/SSID/ssid20.jpg  \n",
            "  inflating: StructureRSMAS/SSID/ssid07.jpg  \n",
            "  inflating: StructureRSMAS/SSID/ssid16.jpeg  \n",
            "  inflating: StructureRSMAS/SSID/ssid10.jpg  \n",
            "  inflating: StructureRSMAS/SSID/ssid17.jpg  \n",
            "  inflating: StructureRSMAS/SSID/ssid21.jpg  \n",
            "  inflating: StructureRSMAS/SSID/ssid14.jpeg  \n",
            "   creating: StructureRSMAS/TUNI/\n",
            "  inflating: StructureRSMAS/TUNI/tuni09.jpeg  \n",
            "  inflating: StructureRSMAS/TUNI/tuni03.jpg  \n",
            "  inflating: StructureRSMAS/TUNI/tuni07.jpeg  \n",
            "  inflating: StructureRSMAS/TUNI/tuni02.jpg  \n",
            "  inflating: StructureRSMAS/TUNI/tuni17.jpg  \n",
            "  inflating: StructureRSMAS/TUNI/tuni13.jpg  \n",
            "  inflating: StructureRSMAS/TUNI/tuni14.jpeg  \n",
            "  inflating: StructureRSMAS/TUNI/tuni11.jpeg  \n",
            "  inflating: StructureRSMAS/TUNI/tuni06.jpg  \n",
            "  inflating: StructureRSMAS/TUNI/tuni04.jpg  \n",
            "  inflating: StructureRSMAS/TUNI/tuni16.jpeg  \n",
            "  inflating: StructureRSMAS/TUNI/tuni15.jpg  \n",
            "  inflating: StructureRSMAS/TUNI/tuni19.jpg  \n",
            "  inflating: StructureRSMAS/TUNI/tuni18.jpg  \n",
            "  inflating: StructureRSMAS/TUNI/tuni22.jpg  \n",
            "  inflating: StructureRSMAS/TUNI/tuni23.jpg  \n",
            "  inflating: StructureRSMAS/TUNI/tuni20.jpg  \n",
            "  inflating: StructureRSMAS/TUNI/tuni01.jpg  \n",
            "  inflating: StructureRSMAS/TUNI/tuni08.jpeg  \n",
            "  inflating: StructureRSMAS/TUNI/tuni05.jpeg  \n",
            "  inflating: StructureRSMAS/TUNI/tuni12.jpeg  \n",
            "  inflating: StructureRSMAS/TUNI/tuni10.jpg  \n",
            "  inflating: StructureRSMAS/TUNI/tuni21.jpg  \n",
            "   creating: StructureRSMAS/MALC/\n",
            "  inflating: StructureRSMAS/MALC/malc15.jpg  \n",
            "  inflating: StructureRSMAS/MALC/malc30.jpeg  \n",
            "  inflating: StructureRSMAS/MALC/malc22.jpg  \n",
            "  inflating: StructureRSMAS/MALC/malc33.jpg  \n",
            "  inflating: StructureRSMAS/MALC/malc23.jpg  \n",
            "  inflating: StructureRSMAS/MALC/malc06.jpg  \n",
            "  inflating: StructureRSMAS/MALC/malc31.jpg  \n",
            "  inflating: StructureRSMAS/MALC/malc03.jpg  \n",
            "  inflating: StructureRSMAS/MALC/malc12.jpg  \n",
            "  inflating: StructureRSMAS/MALC/malc02.jpg  \n",
            "  inflating: StructureRSMAS/MALC/malc14.jpg  \n",
            "  inflating: StructureRSMAS/MALC/malc07.jpeg  \n",
            "  inflating: StructureRSMAS/MALC/malc29.jpg  \n",
            "  inflating: StructureRSMAS/MALC/malc13.jpeg  \n",
            "  inflating: StructureRSMAS/MALC/malc26.jpeg  \n",
            "  inflating: StructureRSMAS/MALC/malc28.jpeg  \n",
            "  inflating: StructureRSMAS/MALC/malc21.jpg  \n",
            "  inflating: StructureRSMAS/MALC/malc11.jpg  \n",
            "  inflating: StructureRSMAS/MALC/malc20.jpg  \n",
            "  inflating: StructureRSMAS/MALC/malc04.jpg  \n",
            "  inflating: StructureRSMAS/MALC/malc19.jpg  \n",
            "  inflating: StructureRSMAS/MALC/malc05.jpg  \n",
            "  inflating: StructureRSMAS/MALC/malc32.jpg  \n",
            "  inflating: StructureRSMAS/MALC/malc25.jpg  \n",
            "  inflating: StructureRSMAS/MALC/malc27.jpeg  \n",
            "  inflating: StructureRSMAS/MALC/malc17.jpg  \n",
            "  inflating: StructureRSMAS/MALC/malc10.jpg  \n",
            "  inflating: StructureRSMAS/MALC/malc18.jpg  \n",
            "  inflating: StructureRSMAS/MALC/malc24.jpg  \n",
            "  inflating: StructureRSMAS/MALC/malc08.jpg  \n",
            "  inflating: StructureRSMAS/MALC/malc16.jpg  \n",
            "  inflating: StructureRSMAS/MALC/malc09.jpg  \n",
            "  inflating: StructureRSMAS/MALC/malc01.jpg  \n",
            "   creating: StructureRSMAS/GORG/\n",
            "  inflating: StructureRSMAS/GORG/gorg04.jpg  \n",
            "  inflating: StructureRSMAS/GORG/gorg13.jpg  \n",
            "  inflating: StructureRSMAS/GORG/gorg08.jpg  \n",
            "  inflating: StructureRSMAS/GORG/gorg17.jpg  \n",
            "  inflating: StructureRSMAS/GORG/gorg18.jpg  \n",
            "  inflating: StructureRSMAS/GORG/gorg05.jpg  \n",
            "  inflating: StructureRSMAS/GORG/gorg01.jpg  \n",
            "  inflating: StructureRSMAS/GORG/gorg14.jpg  \n",
            "  inflating: StructureRSMAS/GORG/gorg09.jpg  \n",
            "  inflating: StructureRSMAS/GORG/gorg07.jpg  \n",
            "  inflating: StructureRSMAS/GORG/gorg06.jpg  \n",
            "  inflating: StructureRSMAS/GORG/gorg12.jpg  \n",
            "  inflating: StructureRSMAS/GORG/gorg10.jpg  \n",
            "  inflating: StructureRSMAS/GORG/gorg03.jpg  \n",
            "  inflating: StructureRSMAS/GORG/gorg02.jpg  \n",
            "  inflating: StructureRSMAS/GORG/gorg15.jpg  \n",
            "  inflating: StructureRSMAS/GORG/gorg11.jpg  \n",
            "  inflating: StructureRSMAS/GORG/gorg16.jpg  \n",
            "   creating: StructureRSMAS/DANT/\n",
            "  inflating: StructureRSMAS/DANT/dant04.jpg  \n",
            "  inflating: StructureRSMAS/DANT/dant12.jpg  \n",
            "  inflating: StructureRSMAS/DANT/dant10.jpg  \n",
            "  inflating: StructureRSMAS/DANT/dant05.jpeg  \n",
            "  inflating: StructureRSMAS/DANT/dant01.jpg  \n",
            "  inflating: StructureRSMAS/DANT/dant17.jpg  \n",
            "  inflating: StructureRSMAS/DANT/dant02.jpg  \n",
            "  inflating: StructureRSMAS/DANT/dant13.jpg  \n",
            "  inflating: StructureRSMAS/DANT/dant09.jpg  \n",
            "  inflating: StructureRSMAS/DANT/dant18.jpg  \n",
            "  inflating: StructureRSMAS/DANT/dant06.jpeg  \n",
            "  inflating: StructureRSMAS/DANT/dant14.jpg  \n",
            "  inflating: StructureRSMAS/DANT/dant03.jpg  \n",
            "  inflating: StructureRSMAS/DANT/dant11.jpg  \n",
            "  inflating: StructureRSMAS/DANT/dant20.jpg  \n",
            "  inflating: StructureRSMAS/DANT/dant19.jpg  \n",
            "  inflating: StructureRSMAS/DANT/dant16.JPG  \n",
            "  inflating: StructureRSMAS/DANT/dant07.jpg  \n",
            "  inflating: StructureRSMAS/DANT/dant15.jpg  \n",
            "  inflating: StructureRSMAS/DANT/dant08.jpg  \n",
            "   creating: StructureRSMAS/CNAT/\n",
            "  inflating: StructureRSMAS/CNAT/cnat20.jpeg  \n",
            "  inflating: StructureRSMAS/CNAT/cnat21.jpg  \n",
            "  inflating: StructureRSMAS/CNAT/cnat01.jpg  \n",
            "  inflating: StructureRSMAS/CNAT/cnat10.jpg  \n",
            "  inflating: StructureRSMAS/CNAT/cnat19.jpeg  \n",
            "  inflating: StructureRSMAS/CNAT/cnat14.jpeg  \n",
            "  inflating: StructureRSMAS/CNAT/cnat16.jpg  \n",
            "  inflating: StructureRSMAS/CNAT/cnat08.jpg  \n",
            "  inflating: StructureRSMAS/CNAT/cnat03.jpg  \n",
            "  inflating: StructureRSMAS/CNAT/cnat02.jpg  \n",
            "  inflating: StructureRSMAS/CNAT/cnat34.jpg  \n",
            "  inflating: StructureRSMAS/CNAT/cnat15.jpg  \n",
            "  inflating: StructureRSMAS/CNAT/cnat27.jpg  \n",
            "  inflating: StructureRSMAS/CNAT/cnat22.jpg  \n",
            "  inflating: StructureRSMAS/CNAT/cnat12.jpg  \n",
            "  inflating: StructureRSMAS/CNAT/cnat09.jpg  \n",
            "  inflating: StructureRSMAS/CNAT/cnat18.jpg  \n",
            "  inflating: StructureRSMAS/CNAT/cnat05.jpg  \n",
            "  inflating: StructureRSMAS/CNAT/cnat28.jpg  \n",
            "  inflating: StructureRSMAS/CNAT/cnat31.jpg  \n",
            "  inflating: StructureRSMAS/CNAT/cnat29.jpg  \n",
            "  inflating: StructureRSMAS/CNAT/cnat25.jpg  \n",
            "  inflating: StructureRSMAS/CNAT/cnat26.jpg  \n",
            "  inflating: StructureRSMAS/CNAT/cnat04.jpg  \n",
            "  inflating: StructureRSMAS/CNAT/cnat24.jpg  \n",
            "  inflating: StructureRSMAS/CNAT/cnat13.jpg  \n",
            "  inflating: StructureRSMAS/CNAT/cnat30.jpg  \n",
            "  inflating: StructureRSMAS/CNAT/cnat07.jpg  \n",
            "  inflating: StructureRSMAS/CNAT/cnat11.jpg  \n",
            "  inflating: StructureRSMAS/CNAT/cnat32.jpg  \n",
            "  inflating: StructureRSMAS/CNAT/cnat33.jpg  \n",
            "  inflating: StructureRSMAS/CNAT/cnat06.jpg  \n",
            "  inflating: StructureRSMAS/CNAT/cnat23.jpg  \n",
            "  inflating: StructureRSMAS/CNAT/cnat17.jpeg  \n",
            "   creating: StructureRSMAS/PALY/\n",
            "  inflating: StructureRSMAS/PALY/paly08.jpeg  \n",
            "  inflating: StructureRSMAS/PALY/paly07.jpeg  \n",
            "  inflating: StructureRSMAS/PALY/paly25.jpg  \n",
            "  inflating: StructureRSMAS/PALY/paly24.jpg  \n",
            "  inflating: StructureRSMAS/PALY/paly11.jpg  \n",
            "  inflating: StructureRSMAS/PALY/paly31.jpg  \n",
            "  inflating: StructureRSMAS/PALY/paly09.jpg  \n",
            "  inflating: StructureRSMAS/PALY/paly32.jpg  \n",
            "  inflating: StructureRSMAS/PALY/paly06.jpg  \n",
            "  inflating: StructureRSMAS/PALY/paly29.jpg  \n",
            "  inflating: StructureRSMAS/PALY/paly13.jpg  \n",
            "  inflating: StructureRSMAS/PALY/paly02.jpg  \n",
            "  inflating: StructureRSMAS/PALY/paly17.jpeg  \n",
            "  inflating: StructureRSMAS/PALY/paly26.jpg  \n",
            "  inflating: StructureRSMAS/PALY/paly27.jpg  \n",
            "  inflating: StructureRSMAS/PALY/paly12.jpg  \n",
            "  inflating: StructureRSMAS/PALY/paly20.jpg  \n",
            "  inflating: StructureRSMAS/PALY/paly10.jpg  \n",
            "  inflating: StructureRSMAS/PALY/paly28.jpg  \n",
            "  inflating: StructureRSMAS/PALY/paly18.jpeg  \n",
            "  inflating: StructureRSMAS/PALY/paly03.jpg  \n",
            "  inflating: StructureRSMAS/PALY/paly22.jpg  \n",
            "  inflating: StructureRSMAS/PALY/paly01.jpeg  \n",
            "  inflating: StructureRSMAS/PALY/paly30.jpg  \n",
            "  inflating: StructureRSMAS/PALY/paly14.jpg  \n",
            "  inflating: StructureRSMAS/PALY/paly19.jpeg  \n",
            "  inflating: StructureRSMAS/PALY/paly23.jpg  \n",
            "  inflating: StructureRSMAS/PALY/paly04.jpg  \n",
            "  inflating: StructureRSMAS/PALY/paly15.jpg  \n",
            "  inflating: StructureRSMAS/PALY/paly16.jpg  \n",
            "  inflating: StructureRSMAS/PALY/paly05.jpg  \n",
            "  inflating: StructureRSMAS/PALY/paly21.jpg  \n",
            "   creating: StructureRSMAS/APAL/\n",
            "  inflating: StructureRSMAS/APAL/apal29.jpg  \n",
            "  inflating: StructureRSMAS/APAL/apal37.jpg  \n",
            "  inflating: StructureRSMAS/APAL/apal41.jpg  \n",
            "  inflating: StructureRSMAS/APAL/apal17.jpg  \n",
            "  inflating: StructureRSMAS/APAL/apal09.jpg  \n",
            "  inflating: StructureRSMAS/APAL/apal28.jpg  \n",
            "  inflating: StructureRSMAS/APAL/apal20.jpg  \n",
            "  inflating: StructureRSMAS/APAL/apal03.jpg  \n",
            "  inflating: StructureRSMAS/APAL/apal18.jpg  \n",
            "  inflating: StructureRSMAS/APAL/apal27.jpg  \n",
            "  inflating: StructureRSMAS/APAL/apal01.jpeg  \n",
            "  inflating: StructureRSMAS/APAL/apal21.jpg  \n",
            "  inflating: StructureRSMAS/APAL/apal26.jpg  \n",
            "  inflating: StructureRSMAS/APAL/apal38.jpg  \n",
            "  inflating: StructureRSMAS/APAL/apal31.jpeg  \n",
            "  inflating: StructureRSMAS/APAL/apal08.jpeg  \n",
            "  inflating: StructureRSMAS/APAL/apal16.jpg  \n",
            "  inflating: StructureRSMAS/APAL/apal34.jpg  \n",
            "  inflating: StructureRSMAS/APAL/apal06.jpeg  \n",
            "  inflating: StructureRSMAS/APAL/apal05.jpeg  \n",
            "  inflating: StructureRSMAS/APAL/apal33.jpg  \n",
            "  inflating: StructureRSMAS/APAL/apal25.jpg  \n",
            "  inflating: StructureRSMAS/APAL/apal30.jpg  \n",
            "  inflating: StructureRSMAS/APAL/apal24.jpg  \n",
            "  inflating: StructureRSMAS/APAL/apal14.jpg  \n",
            "  inflating: StructureRSMAS/APAL/apal12.jpeg  \n",
            "  inflating: StructureRSMAS/APAL/apal10.jpeg  \n",
            "  inflating: StructureRSMAS/APAL/apal35.jpg  \n",
            "  inflating: StructureRSMAS/APAL/apal11.jpeg  \n",
            "  inflating: StructureRSMAS/APAL/apal19.jpg  \n",
            "  inflating: StructureRSMAS/APAL/apal36.jpg  \n",
            "  inflating: StructureRSMAS/APAL/apal23.jpeg  \n",
            "  inflating: StructureRSMAS/APAL/apal02.jpg  \n",
            "  inflating: StructureRSMAS/APAL/apal04.jpg  \n",
            "  inflating: StructureRSMAS/APAL/apal22.jpg  \n",
            "  inflating: StructureRSMAS/APAL/apal07.jpeg  \n",
            "  inflating: StructureRSMAS/APAL/apal39.jpg  \n",
            "  inflating: StructureRSMAS/APAL/apal40.jpg  \n",
            "  inflating: StructureRSMAS/APAL/apal15.jpeg  \n",
            "  inflating: StructureRSMAS/APAL/apal13.jpeg  \n",
            "  inflating: StructureRSMAS/APAL/apal32.jpg  \n",
            "   creating: StructureRSMAS/ACER/\n",
            "  inflating: StructureRSMAS/ACER/acer34.jpg  \n",
            "  inflating: StructureRSMAS/ACER/acer20.jpg  \n",
            "  inflating: StructureRSMAS/ACER/acer09.jpg  \n",
            "  inflating: StructureRSMAS/ACER/acer10.jpeg  \n",
            "  inflating: StructureRSMAS/ACER/acer44.jpg  \n",
            "  inflating: StructureRSMAS/ACER/acer33.jpeg  \n",
            "  inflating: StructureRSMAS/ACER/acer05.jpg  \n",
            "  inflating: StructureRSMAS/ACER/acer01.jpeg  \n",
            "  inflating: StructureRSMAS/ACER/acer40.jpeg  \n",
            "  inflating: StructureRSMAS/ACER/acer03.jpg  \n",
            "  inflating: StructureRSMAS/ACER/acer38.jpg  \n",
            "  inflating: StructureRSMAS/ACER/acer16.jpg  \n",
            "  inflating: StructureRSMAS/ACER/acer07.jpeg  \n",
            "  inflating: StructureRSMAS/ACER/acer31.jpg  \n",
            "  inflating: StructureRSMAS/ACER/acer36.jpg  \n",
            "  inflating: StructureRSMAS/ACER/acer22.jpg  \n",
            "  inflating: StructureRSMAS/ACER/acer18.jpg  \n",
            "  inflating: StructureRSMAS/ACER/acer17.jpg  \n",
            "  inflating: StructureRSMAS/ACER/acer11.jpeg  \n",
            "  inflating: StructureRSMAS/ACER/acer04.jpg  \n",
            "  inflating: StructureRSMAS/ACER/acer12.jpg  \n",
            "  inflating: StructureRSMAS/ACER/acer24.jpg  \n",
            "  inflating: StructureRSMAS/ACER/acer27.jpg  \n",
            "  inflating: StructureRSMAS/ACER/acer06.jpg  \n",
            "  inflating: StructureRSMAS/ACER/acer02.jpeg  \n",
            "  inflating: StructureRSMAS/ACER/acer28.jpg  \n",
            "  inflating: StructureRSMAS/ACER/acer41.jpeg  \n",
            "  inflating: StructureRSMAS/ACER/acer30.jpeg  \n",
            "  inflating: StructureRSMAS/ACER/acer43.jpg  \n",
            "  inflating: StructureRSMAS/ACER/acer25.jpg  \n",
            "  inflating: StructureRSMAS/ACER/acer14.jpeg  \n",
            "  inflating: StructureRSMAS/ACER/acer35.jpeg  \n",
            "  inflating: StructureRSMAS/ACER/acer26.jpeg  \n",
            "  inflating: StructureRSMAS/ACER/acer15.jpeg  \n",
            "  inflating: StructureRSMAS/ACER/acer29.jpg  \n",
            "  inflating: StructureRSMAS/ACER/acer42.jpg  \n",
            "  inflating: StructureRSMAS/ACER/acer32.jpg  \n",
            "  inflating: StructureRSMAS/ACER/acer37.jpg  \n",
            "  inflating: StructureRSMAS/ACER/acer13.jpeg  \n",
            "  inflating: StructureRSMAS/ACER/acer08.jpeg  \n",
            "  inflating: StructureRSMAS/ACER/acer23.jpg  \n",
            "  inflating: StructureRSMAS/ACER/acer39.jpg  \n",
            "  inflating: StructureRSMAS/ACER/acer21.jpeg  \n",
            "  inflating: StructureRSMAS/ACER/acer19.JPG  \n",
            "   creating: StructureRSMAS/MONT/\n",
            "  inflating: StructureRSMAS/MONT/mont21.jpg  \n",
            "  inflating: StructureRSMAS/MONT/mont11.jpg  \n",
            "  inflating: StructureRSMAS/MONT/mont15.jpeg  \n",
            "  inflating: StructureRSMAS/MONT/mont18.jpg  \n",
            "  inflating: StructureRSMAS/MONT/mont07.jpg  \n",
            "  inflating: StructureRSMAS/MONT/mont17.jpeg  \n",
            "  inflating: StructureRSMAS/MONT/mont03.jpg  \n",
            "  inflating: StructureRSMAS/MONT/mont05.jpg  \n",
            "  inflating: StructureRSMAS/MONT/mont14.jpg  \n",
            "  inflating: StructureRSMAS/MONT/mont19.jpg  \n",
            "  inflating: StructureRSMAS/MONT/mont20.jpg  \n",
            "  inflating: StructureRSMAS/MONT/mont04.jpeg  \n",
            "  inflating: StructureRSMAS/MONT/mont16.jpeg  \n",
            "  inflating: StructureRSMAS/MONT/mont01.jpg  \n",
            "  inflating: StructureRSMAS/MONT/mont10.jpg  \n",
            "  inflating: StructureRSMAS/MONT/mont06.jpg  \n",
            "  inflating: StructureRSMAS/MONT/mont09.jpg  \n",
            "  inflating: StructureRSMAS/MONT/mont13.jpeg  \n",
            "  inflating: StructureRSMAS/MONT/mont12.jpg  \n",
            "  inflating: StructureRSMAS/MONT/mont08.jpg  \n",
            "  inflating: StructureRSMAS/MONT/mont02.jpg  \n",
            "   creating: StructureRSMAS/MCAV/\n",
            "  inflating: StructureRSMAS/MCAV/mcav03.jpeg  \n",
            "  inflating: StructureRSMAS/MCAV/mcav32.jpg  \n",
            "  inflating: StructureRSMAS/MCAV/mcav05.jpg  \n",
            "  inflating: StructureRSMAS/MCAV/mcav16.jpg  \n",
            "  inflating: StructureRSMAS/MCAV/mcav38.jpg  \n",
            "  inflating: StructureRSMAS/MCAV/mcav17.jpg  \n",
            "  inflating: StructureRSMAS/MCAV/mcav06.jpg  \n",
            "  inflating: StructureRSMAS/MCAV/mcav22.jpg  \n",
            "  inflating: StructureRSMAS/MCAV/mcav25.jpeg  \n",
            "  inflating: StructureRSMAS/MCAV/mcav30.jpg  \n",
            "  inflating: StructureRSMAS/MCAV/mcav36.jpg  \n",
            "  inflating: StructureRSMAS/MCAV/mcav04.jpg  \n",
            "  inflating: StructureRSMAS/MCAV/mcav37.jpeg  \n",
            "  inflating: StructureRSMAS/MCAV/mcav10.jpeg  \n",
            "  inflating: StructureRSMAS/MCAV/mcav29.jpg  \n",
            "  inflating: StructureRSMAS/MCAV/mcav34.jpg  \n",
            "  inflating: StructureRSMAS/MCAV/mcav07.jpg  \n",
            "  inflating: StructureRSMAS/MCAV/mcav09.jpg  \n",
            "  inflating: StructureRSMAS/MCAV/mcav12.jpg  \n",
            "  inflating: StructureRSMAS/MCAV/mcav19.jpg  \n",
            "  inflating: StructureRSMAS/MCAV/mcav14.jpeg  \n",
            "  inflating: StructureRSMAS/MCAV/mcav31.jpg  \n",
            "  inflating: StructureRSMAS/MCAV/mcav08.jpg  \n",
            "  inflating: StructureRSMAS/MCAV/mcav13.jpeg  \n",
            "  inflating: StructureRSMAS/MCAV/mcav02.jpg  \n",
            "  inflating: StructureRSMAS/MCAV/mcav28.jpg  \n",
            "  inflating: StructureRSMAS/MCAV/mcav21.jpg  \n",
            "  inflating: StructureRSMAS/MCAV/mcav11.jpg  \n",
            "  inflating: StructureRSMAS/MCAV/mcav20.jpeg  \n",
            "  inflating: StructureRSMAS/MCAV/mcav23.jpeg  \n",
            "  inflating: StructureRSMAS/MCAV/mcav15.jpg  \n",
            "  inflating: StructureRSMAS/MCAV/mcav26.jpg  \n",
            "  inflating: StructureRSMAS/MCAV/mcav27.jpg  \n",
            "  inflating: StructureRSMAS/MCAV/mcav35.jpg  \n",
            "  inflating: StructureRSMAS/MCAV/mcav18.jpg  \n",
            "  inflating: StructureRSMAS/MCAV/mcav33.jpg  \n",
            "  inflating: StructureRSMAS/MCAV/mcav24.jpg  \n",
            "  inflating: StructureRSMAS/MCAV/mcav01.jpg  \n",
            "   creating: StructureRSMAS/MMEA/\n",
            "  inflating: StructureRSMAS/MMEA/mmea04.jpg  \n",
            "  inflating: StructureRSMAS/MMEA/mmea14.jpeg  \n",
            "  inflating: StructureRSMAS/MMEA/mmea01.jpeg  \n",
            "  inflating: StructureRSMAS/MMEA/mmea25.jpeg  \n",
            "  inflating: StructureRSMAS/MMEA/mmea17.jpg  \n",
            "  inflating: StructureRSMAS/MMEA/mmea26.jpg  \n",
            "  inflating: StructureRSMAS/MMEA/mmea29.jpg  \n",
            "  inflating: StructureRSMAS/MMEA/mmea21.jpg  \n",
            "  inflating: StructureRSMAS/MMEA/mmea19.jpg  \n",
            "  inflating: StructureRSMAS/MMEA/mmea23.jpg  \n",
            "  inflating: StructureRSMAS/MMEA/mmea05.jpeg  \n",
            "  inflating: StructureRSMAS/MMEA/mmea13.jpg  \n",
            "  inflating: StructureRSMAS/MMEA/mmea28.jpeg  \n",
            "  inflating: StructureRSMAS/MMEA/mmea07.jpeg  \n",
            "  inflating: StructureRSMAS/MMEA/mmea27.jpg  \n",
            "  inflating: StructureRSMAS/MMEA/mmea15.jpg  \n",
            "  inflating: StructureRSMAS/MMEA/mmea10.jpg  \n",
            "  inflating: StructureRSMAS/MMEA/mmea02.jpg  \n",
            "  inflating: StructureRSMAS/MMEA/mmea12.jpg  \n",
            "  inflating: StructureRSMAS/MMEA/mmea06.jpg  \n",
            "  inflating: StructureRSMAS/MMEA/mmea22.jpg  \n",
            "  inflating: StructureRSMAS/MMEA/mmea08.jpg  \n",
            "  inflating: StructureRSMAS/MMEA/mmea30.jpg  \n",
            "  inflating: StructureRSMAS/MMEA/mmea09.jpg  \n",
            "  inflating: StructureRSMAS/MMEA/mmea16.jpg  \n",
            "  inflating: StructureRSMAS/MMEA/mmea18.jpg  \n",
            "  inflating: StructureRSMAS/MMEA/mmea11.jpeg  \n",
            "  inflating: StructureRSMAS/MMEA/mmea20.jpg  \n",
            "  inflating: StructureRSMAS/MMEA/mmea03.jpg  \n",
            "  inflating: StructureRSMAS/MMEA/mmea24.jpeg  \n",
            "   creating: StructureRSMAS/DSTR/\n",
            "  inflating: StructureRSMAS/DSTR/dstr04.jpeg  \n",
            "  inflating: StructureRSMAS/DSTR/dstr13.jpeg  \n",
            "  inflating: StructureRSMAS/DSTR/dstr02.jpeg  \n",
            "  inflating: StructureRSMAS/DSTR/dstr12.jpg  \n",
            "  inflating: StructureRSMAS/DSTR/dstr10.jpg  \n",
            "  inflating: StructureRSMAS/DSTR/dstr11.jpg  \n",
            "  inflating: StructureRSMAS/DSTR/dstr16.jpg  \n",
            "  inflating: StructureRSMAS/DSTR/dstr03.jpeg  \n",
            "  inflating: StructureRSMAS/DSTR/dstr05.jpeg  \n",
            "  inflating: StructureRSMAS/DSTR/dstr01.jpeg  \n",
            "  inflating: StructureRSMAS/DSTR/dstr08.jpeg  \n",
            "  inflating: StructureRSMAS/DSTR/dstr07.JPG  \n",
            "  inflating: StructureRSMAS/DSTR/dstr06.jpeg  \n",
            "  inflating: StructureRSMAS/DSTR/dstr14.jpg  \n",
            "  inflating: StructureRSMAS/DSTR/dstr09.jpg  \n",
            "  inflating: StructureRSMAS/DSTR/dstr15.jpg  \n",
            "   creating: StructureRSMAS/SPO/\n",
            "  inflating: StructureRSMAS/SPO/spo15.jpg  \n",
            "  inflating: StructureRSMAS/SPO/spo10.jpg  \n",
            "  inflating: StructureRSMAS/SPO/spo07.jpg  \n",
            "  inflating: StructureRSMAS/SPO/spo02.jpg  \n",
            "  inflating: StructureRSMAS/SPO/spo19.jpg  \n",
            "  inflating: StructureRSMAS/SPO/spo03.jpg  \n",
            "  inflating: StructureRSMAS/SPO/spo18.jpg  \n",
            "  inflating: StructureRSMAS/SPO/spo16.jpg  \n",
            "  inflating: StructureRSMAS/SPO/spo12.jpg  \n",
            "  inflating: StructureRSMAS/SPO/spo11.JPG  \n",
            "  inflating: StructureRSMAS/SPO/spo14.jpg  \n",
            "  inflating: StructureRSMAS/SPO/spo13.jpg  \n",
            "  inflating: StructureRSMAS/SPO/spo23.jpg  \n",
            "  inflating: StructureRSMAS/SPO/spo06.jpg  \n",
            "  inflating: StructureRSMAS/SPO/spo21.jpg  \n",
            "  inflating: StructureRSMAS/SPO/spo17.jpeg  \n",
            "  inflating: StructureRSMAS/SPO/spo09.jpg  \n",
            "  inflating: StructureRSMAS/SPO/spo05.jpg  \n",
            "  inflating: StructureRSMAS/SPO/spo01.jpg  \n",
            "  inflating: StructureRSMAS/SPO/spo22.jpg  \n",
            "  inflating: StructureRSMAS/SPO/spo08.jpg  \n",
            "  inflating: StructureRSMAS/SPO/spo04.jpg  \n",
            "  inflating: StructureRSMAS/SPO/spo20.jpg  \n",
            "  inflating: StructureRSMAS.txt      \n"
          ],
          "name": "stdout"
        }
      ]
    },
    {
      "cell_type": "code",
      "metadata": {
        "colab": {
          "base_uri": "https://localhost:8080/"
        },
        "id": "cH6zMtXYKvS-",
        "outputId": "7d81b261-7f01-49c0-9b6f-231d609c98ef"
      },
      "source": [
        "# list the directories\n",
        "os.listdir(\"/content/StructureRSMAS/\")"
      ],
      "execution_count": 4,
      "outputs": [
        {
          "output_type": "execute_result",
          "data": {
            "text/plain": [
              "['GORG',\n",
              " 'DANT',\n",
              " 'SSID',\n",
              " 'TUNI',\n",
              " 'DSTR',\n",
              " 'MALC',\n",
              " 'PALY',\n",
              " 'MONT',\n",
              " 'ACER',\n",
              " 'CNAT',\n",
              " 'APAL',\n",
              " 'MCAV',\n",
              " 'SPO',\n",
              " 'MMEA']"
            ]
          },
          "metadata": {
            "tags": []
          },
          "execution_count": 4
        }
      ]
    },
    {
      "cell_type": "markdown",
      "metadata": {
        "id": "zwVrUspfKCYA"
      },
      "source": [
        "# II. EDA Preprocessing"
      ]
    },
    {
      "cell_type": "markdown",
      "metadata": {
        "id": "wwy8CVQTJdZ7"
      },
      "source": [
        "The codes below are based on [Keras-MultiClass-Image-Classification](https://github.com/vijayg15/Keras-MultiClass-Image-Classification) by @vijayg15 with a few changes."
      ]
    },
    {
      "cell_type": "code",
      "metadata": {
        "id": "8rO3Z3n8I-FR"
      },
      "source": [
        "import random\n",
        "from shutil import copyfile"
      ],
      "execution_count": 5,
      "outputs": []
    },
    {
      "cell_type": "code",
      "metadata": {
        "id": "s0uCPlhgI-F_"
      },
      "source": [
        "import numpy as np\n",
        "import pandas as pd"
      ],
      "execution_count": 6,
      "outputs": []
    },
    {
      "cell_type": "code",
      "metadata": {
        "id": "irzMv7n4I-GD"
      },
      "source": [
        "import matplotlib.pyplot as plt\n",
        "import seaborn as sns\n",
        "from matplotlib.image import imread\n",
        "import pathlib"
      ],
      "execution_count": 7,
      "outputs": []
    },
    {
      "cell_type": "code",
      "metadata": {
        "colab": {
          "base_uri": "https://localhost:8080/",
          "height": 499
        },
        "id": "0k8qgiblI-GF",
        "outputId": "bbb74a06-acd0-4069-880e-0d99bf4c6cf6"
      },
      "source": [
        "image_folder = ['SSID', 'MONT','PALY','DSTR','GORG','ACER','SPO','MMEA','APAL','CNAT','MALC','MCAV','DANT','TUNI']\n",
        "\n",
        "nimgs = {}\n",
        "\n",
        "for i in image_folder:\n",
        "    nimages = len(os.listdir('/content/StructureRSMAS/'+i+'/'))\n",
        "    nimgs[i]=nimages\n",
        "\n",
        "plt.figure(figsize=(10, 8))\n",
        "plt.bar(range(len(nimgs)), list(nimgs.values()), align='center')\n",
        "plt.xticks(range(len(nimgs)), list(nimgs.keys()))\n",
        "plt.title('Distribution of different classes of Dataset')\n",
        "plt.show()"
      ],
      "execution_count": 8,
      "outputs": [
        {
          "output_type": "display_data",
          "data": {
            "image/png": "[encoded data removed]",
            "text/plain": [
              "<Figure size 720x576 with 1 Axes>"
            ]
          },
          "metadata": {
            "tags": [],
            "needs_background": "light"
          }
        }
      ]
    },
    {
      "cell_type": "code",
      "metadata": {
        "id": "HFbQQmC5o3SP"
      },
      "source": [
        "os.mkdir('/content/StructureRSMAS/training')\n",
        "os.mkdir('/content/StructureRSMAS/testing')\n",
        "\n",
        "os.mkdir('/content/StructureRSMAS/training/SSID')\n",
        "os.mkdir('/content/StructureRSMAS/training/MONT')\n",
        "os.mkdir('/content/StructureRSMAS/training/PALY')\n",
        "os.mkdir('/content/StructureRSMAS/training/DSTR')\n",
        "os.mkdir('/content/StructureRSMAS/training/GORG')\n",
        "os.mkdir('/content/StructureRSMAS/training/ACER')\n",
        "os.mkdir('/content/StructureRSMAS/training/SPO')\n",
        "os.mkdir('/content/StructureRSMAS/training/MMEA')\n",
        "os.mkdir('/content/StructureRSMAS/training/APAL')\n",
        "os.mkdir('/content/StructureRSMAS/training/CNAT')\n",
        "os.mkdir('/content/StructureRSMAS/training/MALC')\n",
        "os.mkdir('/content/StructureRSMAS/training/MCAV')\n",
        "os.mkdir('/content/StructureRSMAS/training/DANT')\n",
        "os.mkdir('/content/StructureRSMAS/training/TUNI')\n",
        "\n",
        "os.mkdir('/content/StructureRSMAS/testing/SSID')\n",
        "os.mkdir('/content/StructureRSMAS/testing/MONT')\n",
        "os.mkdir('/content/StructureRSMAS/testing/PALY')\n",
        "os.mkdir('/content/StructureRSMAS/testing/DSTR')\n",
        "os.mkdir('/content/StructureRSMAS/testing/GORG')\n",
        "os.mkdir('/content/StructureRSMAS/testing/ACER')\n",
        "os.mkdir('/content/StructureRSMAS/testing/SPO')\n",
        "os.mkdir('/content/StructureRSMAS/testing/MMEA')\n",
        "os.mkdir('/content/StructureRSMAS/testing/APAL')\n",
        "os.mkdir('/content/StructureRSMAS/testing/CNAT')\n",
        "os.mkdir('/content/StructureRSMAS/testing/MALC')\n",
        "os.mkdir('/content/StructureRSMAS/testing/MCAV')\n",
        "os.mkdir('/content/StructureRSMAS/testing/DANT')\n",
        "os.mkdir('/content/StructureRSMAS/testing/TUNI')"
      ],
      "execution_count": 9,
      "outputs": []
    },
    {
      "cell_type": "code",
      "metadata": {
        "id": "7fpLZ9-7I-GV"
      },
      "source": [
        "def split_data(SOURCE, TRAINING, TESTING, SPLIT_SIZE):\n",
        "    files = []\n",
        "    for filename in os.listdir(SOURCE):\n",
        "        file = SOURCE + filename\n",
        "        if os.path.getsize(file) > 0:\n",
        "            files.append(filename)\n",
        "        else:\n",
        "            print(filename + \" is zero length, ignoring.\")\n",
        "\n",
        "    training_length = int(len(files) * SPLIT_SIZE)\n",
        "    test_length = int(len(files) - training_length)\n",
        "    shuffled_set = random.sample(files, len(files))\n",
        "    training_set = shuffled_set[0:training_length]\n",
        "    test_set = shuffled_set[training_length:]\n",
        "\n",
        "    for filename in training_set:\n",
        "        this_file = SOURCE + filename\n",
        "        destination = TRAINING + filename\n",
        "        copyfile(this_file, destination)\n",
        "\n",
        "    for filename in test_set:\n",
        "        this_file = SOURCE + filename\n",
        "        destination = TESTING + filename\n",
        "        copyfile(this_file, destination)"
      ],
      "execution_count": 10,
      "outputs": []
    },
    {
      "cell_type": "code",
      "metadata": {
        "id": "ZPWwKjRhI-GY"
      },
      "source": [
        "SSID_SOURCE_DIR = '/content/StructureRSMAS/SSID/'\n",
        "TRAINING_SSID_DIR = '/content/StructureRSMAS/training/SSID/'\n",
        "TEST_SSID_DIR = '/content/StructureRSMAS/testing/SSID/'\n",
        "\n",
        "MONT_SOURCE_DIR = '/content/StructureRSMAS/MONT/'\n",
        "TRAINING_MONT_DIR = '/content/StructureRSMAS/training/MONT/'\n",
        "TEST_MONT_DIR = '/content/StructureRSMAS/testing/MONT/'\n",
        "\n",
        "PALY_SOURCE_DIR = '/content/StructureRSMAS/PALY/'\n",
        "TRAINING_PALY_DIR = '/content/StructureRSMAS/training/PALY/'\n",
        "TEST_PALY_DIR = '/content/StructureRSMAS/testing/PALY/'\n",
        "\n",
        "DSTR_SOURCE_DIR = '/content/StructureRSMAS/DSTR/'\n",
        "TRAINING_DSTR_DIR = '/content/StructureRSMAS/training/DSTR/'\n",
        "TEST_DSTR_DIR = '/content/StructureRSMAS/testing/DSTR/'\n",
        "\n",
        "GORG_SOURCE_DIR = '/content/StructureRSMAS/GORG/'\n",
        "TRAINING_GORG_DIR = '/content/StructureRSMAS/training/GORG/'\n",
        "TEST_GORG_DIR = '/content/StructureRSMAS/testing/GORG/'\n",
        "\n",
        "ACER_SOURCE_DIR = '/content/StructureRSMAS/ACER/'\n",
        "TRAINING_ACER_DIR = '/content/StructureRSMAS/training/ACER/'\n",
        "TEST_ACER_DIR = '/content/StructureRSMAS/testing/ACER/'\n",
        "\n",
        "SPO_SOURCE_DIR = '/content/StructureRSMAS/SPO/'\n",
        "TRAINING_SPO_DIR = '/content/StructureRSMAS/training/SPO/'\n",
        "TEST_SPO_DIR = '/content/StructureRSMAS/testing/SPO/'\n",
        "\n",
        "MMEA_SOURCE_DIR = '/content/StructureRSMAS/MMEA/'\n",
        "TRAINING_MMEA_DIR = '/content/StructureRSMAS/training/MMEA/'\n",
        "TEST_MMEA_DIR = '/content/StructureRSMAS/testing/MMEA/'\n",
        "\n",
        "APAL_SOURCE_DIR = '/content/StructureRSMAS/APAL/'\n",
        "TRAINING_APAL_DIR = '/content/StructureRSMAS/training/APAL/'\n",
        "TEST_APAL_DIR = '/content/StructureRSMAS/testing/APAL/'\n",
        "\n",
        "CNAT_SOURCE_DIR = '/content/StructureRSMAS/CNAT/'\n",
        "TRAINING_CNAT_DIR = '/content/StructureRSMAS/training/CNAT/'\n",
        "TEST_CNAT_DIR = '/content/StructureRSMAS/testing/CNAT/'\n",
        "\n",
        "MALC_SOURCE_DIR = '/content/StructureRSMAS/MALC/'\n",
        "TRAINING_MALC_DIR = '/content/StructureRSMAS/training/MALC/'\n",
        "TEST_MALC_DIR = '/content/StructureRSMAS/testing/MALC/'\n",
        "\n",
        "MCAV_SOURCE_DIR = '/content/StructureRSMAS/MCAV/'\n",
        "TRAINING_MCAV_DIR = '/content/StructureRSMAS/training/MCAV/'\n",
        "TEST_MCAV_DIR = '/content/StructureRSMAS/testing/MCAV/'\n",
        "\n",
        "DANT_SOURCE_DIR = '/content/StructureRSMAS/DANT/'\n",
        "TRAINING_DANT_DIR = '/content/StructureRSMAS/training/DANT/'\n",
        "TEST_DANT_DIR = '/content/StructureRSMAS/testing/DANT/'\n",
        "\n",
        "TUNI_SOURCE_DIR = '/content/StructureRSMAS/TUNI/'\n",
        "TRAINING_TUNI_DIR = '/content/StructureRSMAS/training/TUNI/'\n",
        "TEST_TUNI_DIR = '/content/StructureRSMAS/testing/TUNI/'\n"
      ],
      "execution_count": 11,
      "outputs": []
    },
    {
      "cell_type": "code",
      "metadata": {
        "id": "VFg6Y6M8I-Ga"
      },
      "source": [
        "split_size = .8"
      ],
      "execution_count": 12,
      "outputs": []
    },
    {
      "cell_type": "code",
      "metadata": {
        "id": "J2fVq9mvI-Gc"
      },
      "source": [
        "split_data(SSID_SOURCE_DIR, TRAINING_SSID_DIR, TEST_SSID_DIR, split_size)\n",
        "split_data(MONT_SOURCE_DIR, TRAINING_MONT_DIR, TEST_MONT_DIR, split_size)\n",
        "split_data(PALY_SOURCE_DIR, TRAINING_PALY_DIR, TEST_PALY_DIR, split_size)\n",
        "split_data(DSTR_SOURCE_DIR, TRAINING_DSTR_DIR, TEST_DSTR_DIR, split_size)\n",
        "split_data(GORG_SOURCE_DIR, TRAINING_GORG_DIR, TEST_GORG_DIR, split_size)\n",
        "split_data(ACER_SOURCE_DIR, TRAINING_ACER_DIR, TEST_ACER_DIR, split_size)\n",
        "split_data(SPO_SOURCE_DIR, TRAINING_SPO_DIR, TEST_SPO_DIR, split_size)\n",
        "split_data(MMEA_SOURCE_DIR, TRAINING_MMEA_DIR, TEST_MMEA_DIR, split_size)\n",
        "split_data(APAL_SOURCE_DIR, TRAINING_APAL_DIR, TEST_APAL_DIR, split_size)\n",
        "split_data(CNAT_SOURCE_DIR, TRAINING_CNAT_DIR, TEST_CNAT_DIR, split_size)\n",
        "split_data(MALC_SOURCE_DIR, TRAINING_MALC_DIR, TEST_MALC_DIR, split_size)\n",
        "split_data(MCAV_SOURCE_DIR, TRAINING_MCAV_DIR, TEST_MCAV_DIR, split_size)\n",
        "split_data(DANT_SOURCE_DIR, TRAINING_DANT_DIR, TEST_DANT_DIR, split_size)\n",
        "split_data(TUNI_SOURCE_DIR, TRAINING_TUNI_DIR, TEST_TUNI_DIR, split_size)"
      ],
      "execution_count": 13,
      "outputs": []
    },
    {
      "cell_type": "code",
      "metadata": {
        "colab": {
          "base_uri": "https://localhost:8080/",
          "height": 390
        },
        "id": "xIrEiAPrI-Ge",
        "outputId": "911388e2-1cb3-442b-87bf-385a7946c9d7"
      },
      "source": [
        "nimgs = {}\n",
        "for i in image_folder:\n",
        "    nimages = len(os.listdir('/content/StructureRSMAS/training/'+i+'/'))\n",
        "    nimgs[i]=nimages\n",
        "plt.figure(figsize=(9, 6))\n",
        "plt.bar(range(len(nimgs)), list(nimgs.values()), align='center')\n",
        "plt.xticks(range(len(nimgs)), list(nimgs.keys()))\n",
        "plt.title('Distribution of different classes in Training Dataset')\n",
        "plt.show()"
      ],
      "execution_count": 14,
      "outputs": [
        {
          "output_type": "display_data",
          "data": {
            "image/png": "[encoded data removed]",
            "text/plain": [
              "<Figure size 648x432 with 1 Axes>"
            ]
          },
          "metadata": {
            "tags": [],
            "needs_background": "light"
          }
        }
      ]
    },
    {
      "cell_type": "code",
      "metadata": {
        "colab": {
          "base_uri": "https://localhost:8080/"
        },
        "id": "0awq80nxI-Gi",
        "outputId": "fd50eade-237a-4203-b359-22084d5bfe24"
      },
      "source": [
        "for i in image_folder:\n",
        "    print('Training {} images are: '.format(i)+str(len(os.listdir('/content/StructureRSMAS/training/'+i+'/')))) "
      ],
      "execution_count": 15,
      "outputs": [
        {
          "output_type": "stream",
          "text": [
            "Training SSID images are: 28\n",
            "Training MONT images are: 16\n",
            "Training PALY images are: 25\n",
            "Training DSTR images are: 12\n",
            "Training GORG images are: 14\n",
            "Training ACER images are: 35\n",
            "Training SPO images are: 18\n",
            "Training MMEA images are: 24\n",
            "Training APAL images are: 32\n",
            "Training CNAT images are: 27\n",
            "Training MALC images are: 26\n",
            "Training MCAV images are: 30\n",
            "Training DANT images are: 16\n",
            "Training TUNI images are: 18\n"
          ],
          "name": "stdout"
        }
      ]
    },
    {
      "cell_type": "code",
      "metadata": {
        "colab": {
          "base_uri": "https://localhost:8080/",
          "height": 390
        },
        "id": "dTYXLWniI-Gk",
        "outputId": "8b847c90-bcb0-4019-d9c3-51b64b738b50"
      },
      "source": [
        "nimgs = {}\n",
        "for i in image_folder:\n",
        "    nimages = len(os.listdir('/content/StructureRSMAS/testing/'+i+'/'))\n",
        "    nimgs[i]=nimages\n",
        "plt.figure(figsize=(9, 6))\n",
        "plt.bar(range(len(nimgs)), list(nimgs.values()), align='center')\n",
        "plt.xticks(range(len(nimgs)), list(nimgs.keys()))\n",
        "plt.title('Distribution of different classes in Validation Dataset')\n",
        "plt.show()"
      ],
      "execution_count": 16,
      "outputs": [
        {
          "output_type": "display_data",
          "data": {
            "image/png": "[encoded data removed]",
            "text/plain": [
              "<Figure size 648x432 with 1 Axes>"
            ]
          },
          "metadata": {
            "tags": [],
            "needs_background": "light"
          }
        }
      ]
    },
    {
      "cell_type": "code",
      "metadata": {
        "colab": {
          "base_uri": "https://localhost:8080/"
        },
        "id": "WbABzZb5I-Go",
        "outputId": "c32b89dd-7932-4252-e0d5-2f79cd791353"
      },
      "source": [
        "for i in image_folder:\n",
        "    print('Validation {} images are: '.format(i)+str(len(os.listdir('/content/StructureRSMAS/testing/'+i+'/')))) "
      ],
      "execution_count": 17,
      "outputs": [
        {
          "output_type": "stream",
          "text": [
            "Validation SSID images are: 8\n",
            "Validation MONT images are: 5\n",
            "Validation PALY images are: 7\n",
            "Validation DSTR images are: 4\n",
            "Validation GORG images are: 4\n",
            "Validation ACER images are: 9\n",
            "Validation SPO images are: 5\n",
            "Validation MMEA images are: 6\n",
            "Validation APAL images are: 9\n",
            "Validation CNAT images are: 7\n",
            "Validation MALC images are: 7\n",
            "Validation MCAV images are: 8\n",
            "Validation DANT images are: 4\n",
            "Validation TUNI images are: 5\n"
          ],
          "name": "stdout"
        }
      ]
    },
    {
      "cell_type": "markdown",
      "metadata": {
        "id": "E3axqHdpqncH"
      },
      "source": [
        "# III. Defining Model and Using Augmentation"
      ]
    },
    {
      "cell_type": "markdown",
      "metadata": {
        "id": "V4-B_vH6uEaJ"
      },
      "source": [
        "The codes below are based on Coursera: Convolutional Neural Networks in TensorFlow - Course 2 (Exercise 2: Cats vs. Dogs using augmentation) by DeepLearning.AI with a few changes."
      ]
    },
    {
      "cell_type": "code",
      "metadata": {
        "id": "yXCiylpbwQVa"
      },
      "source": [
        "import tensorflow as tf\n",
        "from tensorflow import keras\n",
        "from tensorflow.keras.optimizers import RMSprop\n",
        "from tensorflow.keras.preprocessing.image import ImageDataGenerator"
      ],
      "execution_count": 18,
      "outputs": []
    },
    {
      "cell_type": "code",
      "metadata": {
        "id": "RAIRyJmzI-Gq"
      },
      "source": [
        "# DEFINE A KERAS MODEL TO CLASSIFY CORALS\n",
        "model = tf.keras.models.Sequential([\n",
        "                                    # The first convolution\n",
        "                                    tf.keras.layers.Conv2D(16, (3,3), activation='relu', input_shape=(150, 150, 3)),\n",
        "                                    tf.keras.layers.MaxPooling2D(2, 2),\n",
        "                                    # The second convolution\n",
        "                                    tf.keras.layers.Conv2D(32, (3,3), activation='relu'),\n",
        "                                    tf.keras.layers.MaxPooling2D(2,2),\n",
        "                                    # The third convolution\n",
        "                                    tf.keras.layers.Conv2D(64, (3,3), activation='relu'),\n",
        "                                    tf.keras.layers.MaxPooling2D(2,2),\n",
        "                                    # Flatten the results to feed into a DNN\n",
        "                                    tf.keras.layers.Flatten(),\n",
        "                                    # 512 neuron hidden layer\n",
        "                                    tf.keras.layers.Dense(512, activation='relu'),\n",
        "                                    tf.keras.layers.Dropout(0.5),\n",
        "                                    # There are 14 output neuron\n",
        "                                    tf.keras.layers.Dense(14, activation='softmax')])\n",
        "\n",
        "model.compile(loss='categorical_crossentropy',\n",
        "              optimizer=RMSprop(lr=0.001),\n",
        "              # based on Gómez-Ríos et al. (2019) pg. 12, the metric used will be recall\n",
        "              metrics=['accuracy', keras.metrics.Recall(name='recall')])"
      ],
      "execution_count": 23,
      "outputs": []
    },
    {
      "cell_type": "code",
      "metadata": {
        "colab": {
          "base_uri": "https://localhost:8080/"
        },
        "id": "lQOxeAQcuPiq",
        "outputId": "d908cb9d-fac5-46ae-dc3e-51c63058c356"
      },
      "source": [
        "TRAINING_DIR = \"/content/StructureRSMAS/training\"\n",
        "# All images will be rescaled by 1./255\n",
        "# + data augmentation technique from Gómez-Ríos et al. (2019) pg. 20\n",
        "train_datagen = ImageDataGenerator(rescale=1/255,\n",
        "                                   width_shift_range=0.4,\n",
        "                                   height_shift_range=0.4,\n",
        "                                   horizontal_flip=True,\n",
        "                                   vertical_flip=True,\n",
        "                                   zoom_range=0.4,\n",
        "                                   rotation_range=6)\n",
        "\n",
        "train_generator = train_datagen.flow_from_directory(\n",
        "    TRAINING_DIR,  # This is the source directory for training images\n",
        "    target_size= (150, 150),  # All images will be resized to 150x150\n",
        "    # Because batch_size = 32 to 17 generated \"ValueError: Expect x to be a non-empty array or dataset\"\n",
        "    # based on this: https://stackoverflow.com/questions/63243927/tensorflowlite-model-maker-valueerror-expect-x-to-be-a-non-empty-array-or-dat\n",
        "    # batch_size changed into 5 (same as validation_generator)\n",
        "    batch_size= 5,\n",
        "    # Since we use categorical_crossentropy loss, we need categorical labels\n",
        "    class_mode='categorical')\n",
        "\n",
        "\n",
        "VALIDATION_DIR = \"/content/StructureRSMAS/testing\"\n",
        "# All images will be rescaled by 1./255\n",
        "# + data augmentation technique from Gómez-Ríos et al. (2019) pg. 20\n",
        "validation_datagen = ImageDataGenerator(rescale=1/255,\n",
        "                                        width_shift_range=0.4,\n",
        "                                        height_shift_range=0.4,\n",
        "                                        horizontal_flip=True,\n",
        "                                        vertical_flip=True,\n",
        "                                        zoom_range=0.4,\n",
        "                                        rotation_range=6)\n",
        "\n",
        "validation_generator = validation_datagen.flow_from_directory(\n",
        "    VALIDATION_DIR,  # This is the source directory for training images\n",
        "    target_size= (150, 150),  # All images will be resized to 150x150\n",
        "    # Because batch_size = 32 to 6 generated \"ValueError: Expect x to be a non-empty array or dataset\"\n",
        "    # based on this: https://stackoverflow.com/questions/63243927/tensorflowlite-model-maker-valueerror-expect-x-to-be-a-non-empty-array-or-dat\n",
        "    # batch_size changed into 5\n",
        "    batch_size= 5,\n",
        "    # Since we use categorical_crossentropy loss, we need categorical labels\n",
        "    class_mode='categorical')"
      ],
      "execution_count": 24,
      "outputs": [
        {
          "output_type": "stream",
          "text": [
            "Found 321 images belonging to 14 classes.\n",
            "Found 88 images belonging to 14 classes.\n"
          ],
          "name": "stdout"
        }
      ]
    },
    {
      "cell_type": "code",
      "metadata": {
        "colab": {
          "base_uri": "https://localhost:8080/"
        },
        "id": "9XQ54kf_uV4X",
        "outputId": "8da9db02-35c1-4de7-961f-943e2b4448b8"
      },
      "source": [
        "history = model.fit_generator(train_generator,\n",
        "                              # use 1300 epochs as maximum value based on Gómez-Ríos et al. (2019)\n",
        "                              epochs=200,\n",
        "                              verbose=1,\n",
        "                              validation_data=validation_generator)"
      ],
      "execution_count": null,
      "outputs": [
        {
          "output_type": "stream",
          "text": [
            "/usr/local/lib/python3.7/dist-packages/tensorflow/python/keras/engine/training.py:1844: UserWarning: `Model.fit_generator` is deprecated and will be removed in a future version. Please use `Model.fit`, which supports generators.\n",
            "  warnings.warn('`Model.fit_generator` is deprecated and '\n"
          ],
          "name": "stderr"
        },
        {
          "output_type": "stream",
          "text": [
            "Epoch 1/200\n",
            "65/65 [==============================] - 9s 135ms/step - loss: 2.9348 - accuracy: 0.0922 - recall: 0.0115 - val_loss: 2.5514 - val_accuracy: 0.1364 - val_recall: 0.0000e+00\n",
            "Epoch 2/200\n",
            "65/65 [==============================] - 9s 133ms/step - loss: 2.5989 - accuracy: 0.1072 - recall: 0.0000e+00 - val_loss: 2.5382 - val_accuracy: 0.1364 - val_recall: 0.0000e+00\n",
            "Epoch 3/200\n",
            "65/65 [==============================] - 8s 130ms/step - loss: 2.6296 - accuracy: 0.1078 - recall: 0.0000e+00 - val_loss: 2.5511 - val_accuracy: 0.1705 - val_recall: 0.0000e+00\n",
            "Epoch 4/200\n",
            "65/65 [==============================] - 8s 130ms/step - loss: 2.5225 - accuracy: 0.1237 - recall: 0.0000e+00 - val_loss: 2.5375 - val_accuracy: 0.1591 - val_recall: 0.0000e+00\n",
            "Epoch 5/200\n",
            "65/65 [==============================] - 8s 128ms/step - loss: 2.4358 - accuracy: 0.1793 - recall: 1.8985e-04 - val_loss: 2.3479 - val_accuracy: 0.2273 - val_recall: 0.0000e+00\n",
            "Epoch 6/200\n",
            "65/65 [==============================] - 9s 132ms/step - loss: 2.4472 - accuracy: 0.1565 - recall: 0.0000e+00 - val_loss: 2.3800 - val_accuracy: 0.1705 - val_recall: 0.0000e+00\n",
            "Epoch 7/200\n",
            "65/65 [==============================] - 8s 128ms/step - loss: 2.3975 - accuracy: 0.1357 - recall: 0.0020 - val_loss: 2.4075 - val_accuracy: 0.2273 - val_recall: 0.0114\n",
            "Epoch 8/200\n",
            "65/65 [==============================] - 8s 129ms/step - loss: 2.4392 - accuracy: 0.1407 - recall: 0.0032 - val_loss: 2.2870 - val_accuracy: 0.2045 - val_recall: 0.0000e+00\n",
            "Epoch 9/200\n",
            "27/65 [===========>..................] - ETA: 3s - loss: 2.1704 - accuracy: 0.2511 - recall: 0.0169"
          ],
          "name": "stdout"
        }
      ]
    },
    {
      "cell_type": "code",
      "metadata": {
        "colab": {
          "base_uri": "https://localhost:8080/",
          "height": 163
        },
        "id": "AoEKJv5idUTM",
        "outputId": "b21a6bff-074e-4dc0-e49e-71de7538e8af"
      },
      "source": [
        "pd.DataFrame(history.history).plot()"
      ],
      "execution_count": 22,
      "outputs": [
        {
          "output_type": "error",
          "ename": "NameError",
          "evalue": "ignored",
          "traceback": [
            "\u001b[0;31m---------------------------------------------------------------------------\u001b[0m",
            "\u001b[0;31mNameError\u001b[0m                                 Traceback (most recent call last)",
            "\u001b[0;32m<ipython-input-22-6d43124f5222>\u001b[0m in \u001b[0;36m<module>\u001b[0;34m()\u001b[0m\n\u001b[0;32m----> 1\u001b[0;31m \u001b[0mpd\u001b[0m\u001b[0;34m.\u001b[0m\u001b[0mDataFrame\u001b[0m\u001b[0;34m(\u001b[0m\u001b[0mhistory\u001b[0m\u001b[0;34m.\u001b[0m\u001b[0mhistory\u001b[0m\u001b[0;34m)\u001b[0m\u001b[0;34m.\u001b[0m\u001b[0mplot\u001b[0m\u001b[0;34m(\u001b[0m\u001b[0;34m)\u001b[0m\u001b[0;34m\u001b[0m\u001b[0;34m\u001b[0m\u001b[0m\n\u001b[0m",
            "\u001b[0;31mNameError\u001b[0m: name 'history' is not defined"
          ]
        }
      ]
    },
    {
      "cell_type": "code",
      "metadata": {
        "colab": {
          "base_uri": "https://localhost:8080/",
          "height": 295
        },
        "id": "V6eMlTtE4rfS",
        "outputId": "297a741c-5389-4aac-95ee-2bf5fb182aea"
      },
      "source": [
        "# Plot training & validation loss values\n",
        "plt.plot(history.history['loss'])\n",
        "plt.plot(history.history['val_loss'])\n",
        "plt.title('Model Loss')\n",
        "plt.ylabel('Loss')\n",
        "plt.xlabel('Epoch')\n",
        "plt.legend(['Train', 'Test'], loc='upper left')\n",
        "plt.show()"
      ],
      "execution_count": 24,
      "outputs": [
        {
          "output_type": "display_data",
          "data": {
            "image/png": "[encoded data removed]",
            "text/plain": [
              "<Figure size 432x288 with 1 Axes>"
            ]
          },
          "metadata": {
            "tags": [],
            "needs_background": "light"
          }
        }
      ]
    },
    {
      "cell_type": "code",
      "metadata": {
        "id": "pbg3gXjyfZWG"
      },
      "source": [
        ""
      ],
      "execution_count": null,
      "outputs": []
    }
  ]
}