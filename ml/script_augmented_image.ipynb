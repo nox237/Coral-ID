{
  "nbformat": 4,
  "nbformat_minor": 5,
  "metadata": {
    "kernelspec": {
      "display_name": "Python 3",
      "language": "python",
      "name": "python3"
    },
    "language_info": {
      "codemirror_mode": {
        "name": "ipython",
        "version": 3
      },
      "file_extension": ".py",
      "mimetype": "text/x-python",
      "name": "python",
      "nbconvert_exporter": "python",
      "pygments_lexer": "ipython3",
      "version": "3.9.2"
    },
    "colab": {
      "name": "script_augmented_image.ipynb",
      "provenance": [],
      "toc_visible": true,
      "include_colab_link": true
    }
  },
  "cells": [
    {
      "cell_type": "markdown",
      "metadata": {
        "id": "view-in-github",
        "colab_type": "text"
      },
      "source": [
        "<a href=\"https://colab.research.google.com/github/sayapakailinuxpak/Coral-ID/blob/ml/script_augmented_image.ipynb\" target=\"_parent\"><img src=\"https://colab.research.google.com/assets/colab-badge.svg\" alt=\"Open In Colab\"/></a>"
      ]
    },
    {
      "cell_type": "markdown",
      "metadata": {
        "id": "9t4YxKSOBxYv"
      },
      "source": [
        "# **Script for Making Augmented Images**\n",
        "The techniques for data augmentation on this model is based on Gómez-Ríos et al. (2019)'s \"[Coral species identification with texture or structure images using a two-level classifier based on Convolutional Neural Networks](https://doi.org/10.1016/j.knosys.2019.104891)\".\n",
        "\n",
        "Honorable Mentions:\n",
        "*   [The Keras Blog](https://blog.keras.io/building-powerful-image-classification-models-using-very-little-data.html)\n",
        "*   [Python for Microscopists by Sreenivas Bhattiprolu](https://)\n",
        "\n",
        "\n"
      ],
      "id": "9t4YxKSOBxYv"
    },
    {
      "cell_type": "code",
      "metadata": {
        "colab": {
          "base_uri": "https://localhost:8080/"
        },
        "id": "jbjLpyuZEITK",
        "outputId": "b4672483-1524-4f0f-ccee-fb0b60ad6b1a"
      },
      "source": [
        "# Mount Google Drive\n",
        "from google.colab import drive\n",
        "drive.mount('/content/drive')"
      ],
      "id": "jbjLpyuZEITK",
      "execution_count": null,
      "outputs": [
        {
          "output_type": "stream",
          "text": [
            "Drive already mounted at /content/drive; to attempt to forcibly remount, call drive.mount(\"/content/drive\", force_remount=True).\n"
          ],
          "name": "stdout"
        }
      ]
    },
    {
      "cell_type": "code",
      "metadata": {
        "colab": {
          "base_uri": "https://localhost:8080/"
        },
        "id": "JAMPfX0oU3r8",
        "outputId": "dc424024-b190-45e4-9793-374b02609b8a"
      },
      "source": [
        "%cd '/content/drive/MyDrive/ML-dataset/StructureRSMAS'\n",
        "!ls"
      ],
      "id": "JAMPfX0oU3r8",
      "execution_count": null,
      "outputs": [
        {
          "output_type": "stream",
          "text": [
            "/content/drive/MyDrive/ML-dataset/StructureRSMAS\n",
            "ACER  APAL  CNAT  MALC\tMCAV  MMEA  SSID\n"
          ],
          "name": "stdout"
        }
      ]
    },
    {
      "cell_type": "code",
      "metadata": {
        "id": "8fa5c694-e9bd-4a85-87fd-b5653e02c231"
      },
      "source": [
        "from keras.preprocessing.image import ImageDataGenerator\n",
        "from skimage import io\n",
        "import os\n",
        "\n",
        "# Make new directory for augmented images\n",
        "os.mkdir('/content/drive/MyDrive/ML-dataset/augStructureRSMAS/')\n",
        "\n",
        "# Define the parameters for augmentation\n",
        "datagen = ImageDataGenerator(rescale = 1/255,\n",
        "                             # pick horizontal and zoom for augmentation\n",
        "                             horizontal_flip = True,\n",
        "                             zoom_range = 0.4,\n",
        "                             fill_mode = 'reflect')  # 'reflect' makes the augmented images more natural"
      ],
      "id": "8fa5c694-e9bd-4a85-87fd-b5653e02c231",
      "execution_count": null,
      "outputs": []
    },
    {
      "cell_type": "code",
      "metadata": {
        "colab": {
          "base_uri": "https://localhost:8080/"
        },
        "id": "07294a8d-0143-4eca-8d32-cd7dee6e8c4c",
        "outputId": "ade3c0e1-a50a-4a54-9a79-5a34688f544c"
      },
      "source": [
        "# Set the augmented and dataset directory\n",
        "augmented_directory = '/content/drive/MyDrive/ML-dataset/augStructureRSMAS'\n",
        "dataset_directory = '/content/drive/MyDrive/ML-dataset/StructureRSMAS'\n",
        "\n",
        "# Iterate on all dataset directory\n",
        "dataset_class_list = os.listdir(dataset_directory)\n",
        "\n",
        "for dataset in dataset_class_list:\n",
        "    temp_augmented_directory = augmented_directory + '/{}'.format(dataset)\n",
        "    temp_dataset_directory = dataset_directory + '/{}'.format(dataset)\n",
        "\n",
        "    print(temp_augmented_directory)\n",
        "    if not os.path.isdir(temp_augmented_directory):\n",
        "        print(\"[!] Doesn't exists, creating directory in {}\".format(temp_augmented_directory))\n",
        "        os.mkdir(temp_augmented_directory)\n",
        "\n",
        "    i = 0\n",
        "    for batch in datagen.flow_from_directory(directory = dataset_directory,\n",
        "                                             batch_size = 16,\n",
        "                                             target_size = (256, 256),\n",
        "                                             color_mode = 'rgb',\n",
        "                                             save_to_dir = temp_augmented_directory.format(dataset),\n",
        "                                             save_prefix = 'aug',\n",
        "                                             save_format = 'jpg',\n",
        "                                             classes=[dataset]):\n",
        "        i += 1\n",
        "        if i > 20: #will generate 21 new images per image per class\n",
        "            break\n",
        "            print(\"[+] Successfully creating augmented image on directory in {}\".format(temp_augmented_directory))"
      ],
      "id": "07294a8d-0143-4eca-8d32-cd7dee6e8c4c",
      "execution_count": null,
      "outputs": [
        {
          "output_type": "stream",
          "text": [
            "/content/drive/MyDrive/ML-dataset/augStructureRSMAS/MMEA\n",
            "[!] Doesn't exists, creating directory in /content/drive/MyDrive/ML-dataset/augStructureRSMAS/MMEA\n",
            "Found 30 images belonging to 1 classes.\n",
            "/content/drive/MyDrive/ML-dataset/augStructureRSMAS/MCAV\n",
            "[!] Doesn't exists, creating directory in /content/drive/MyDrive/ML-dataset/augStructureRSMAS/MCAV\n",
            "Found 38 images belonging to 1 classes.\n",
            "/content/drive/MyDrive/ML-dataset/augStructureRSMAS/CNAT\n",
            "[!] Doesn't exists, creating directory in /content/drive/MyDrive/ML-dataset/augStructureRSMAS/CNAT\n",
            "Found 34 images belonging to 1 classes.\n",
            "/content/drive/MyDrive/ML-dataset/augStructureRSMAS/APAL\n",
            "[!] Doesn't exists, creating directory in /content/drive/MyDrive/ML-dataset/augStructureRSMAS/APAL\n",
            "Found 41 images belonging to 1 classes.\n",
            "/content/drive/MyDrive/ML-dataset/augStructureRSMAS/ACER\n",
            "[!] Doesn't exists, creating directory in /content/drive/MyDrive/ML-dataset/augStructureRSMAS/ACER\n",
            "Found 44 images belonging to 1 classes.\n",
            "/content/drive/MyDrive/ML-dataset/augStructureRSMAS/MALC\n",
            "[!] Doesn't exists, creating directory in /content/drive/MyDrive/ML-dataset/augStructureRSMAS/MALC\n",
            "Found 33 images belonging to 1 classes.\n",
            "/content/drive/MyDrive/ML-dataset/augStructureRSMAS/SSID\n",
            "[!] Doesn't exists, creating directory in /content/drive/MyDrive/ML-dataset/augStructureRSMAS/SSID\n",
            "Found 36 images belonging to 1 classes.\n"
          ],
          "name": "stdout"
        }
      ]
    },
    {
      "cell_type": "code",
      "metadata": {
        "colab": {
          "base_uri": "https://localhost:8080/",
          "height": 498
        },
        "id": "jDVCP63aJ06H",
        "outputId": "6e7fb340-fd0a-4580-c0ab-20b94fecbe67"
      },
      "source": [
        "# Visualize the distribution of augmented images per class\n",
        "import matplotlib.pyplot as plt\n",
        "\n",
        "image_folder = ['SSID', 'ACER','MMEA','APAL','CNAT','MALC','MCAV']\n",
        "nimgs = {}\n",
        "\n",
        "for i in image_folder:\n",
        "    nimages = len(os.listdir('/content/drive/MyDrive/ML-dataset/augStructureRSMAS/'+i+'/'))\n",
        "    nimgs[i] = nimages\n",
        "\n",
        "plt.figure(figsize = (10, 8))\n",
        "plt.bar(range(len(nimgs)), list(nimgs.values()), align = 'center')\n",
        "plt.xticks(range(len(nimgs)), list(nimgs.keys()))\n",
        "plt.title('Distribution of augmented images per class')\n",
        "plt.show()"
      ],
      "id": "jDVCP63aJ06H",
      "execution_count": null,
      "outputs": [
        {
          "output_type": "display_data",
          "data": {
            "image/png": "[encoded data removed]",
            "text/plain": [
              "<Figure size 720x576 with 1 Axes>"
            ]
          },
          "metadata": {
            "tags": [],
            "needs_background": "light"
          }
        }
      ]
    },
    {
      "cell_type": "code",
      "metadata": {
        "id": "JzrvcTX69Odl"
      },
      "source": [
        ""
      ],
      "id": "JzrvcTX69Odl",
      "execution_count": null,
      "outputs": []
    }
  ]
}